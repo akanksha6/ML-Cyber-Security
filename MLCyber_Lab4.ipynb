{
  "cells": [
    {
      "cell_type": "markdown",
      "metadata": {},
      "source": [
        "Name: Akanksha Dhote\n",
        "NetID: avd8874"
      ]
    },
    {
      "cell_type": "code",
      "execution_count": 1,
      "metadata": {},
      "outputs": [],
      "source": [
        "import numpy as np\n",
        "import matplotlib.pyplot as plt\n",
        "import pandas as pd\n",
        "import seaborn as sns\n",
        "from tensorflow import keras\n",
        "from tqdm import tqdm\n",
        "import h5py\n",
        "import warnings"
      ]
    },
    {
      "cell_type": "code",
      "execution_count": 2,
      "metadata": {
        "id": "x272JSRsrVVZ"
      },
      "outputs": [],
      "source": [
        "warnings.filterwarnings(\"ignore\")"
      ]
    },
    {
      "cell_type": "code",
      "execution_count": 3,
      "metadata": {
        "id": "Jd4KEEqErf8U"
      },
      "outputs": [],
      "source": [
        "cl_data_valid = 'cl/valid.h5'\n",
        "bd_data_valid = 'bd/bd_valid.h5'\n",
        "bd_net_model = 'bd_net.h5'"
      ]
    },
    {
      "cell_type": "code",
      "execution_count": 4,
      "metadata": {
        "id": "GXVTLKKOrf_I"
      },
      "outputs": [],
      "source": [
        "def data_loader(filepath):\n",
        "    data = h5py.File(filepath, 'r')\n",
        "    x_data = np.array(data['data'])\n",
        "    y_data = np.array(data['label'])\n",
        "    x_data = x_data.transpose((0,2,3,1))\n",
        "\n",
        "    return x_data, y_data"
      ]
    },
    {
      "cell_type": "code",
      "execution_count": 5,
      "metadata": {},
      "outputs": [],
      "source": [
        "bd_model = keras.models.load_model(bd_net_model)\n",
        "\n",
        "cl_x_valid, cl_y_valid = data_loader(cl_data_valid)\n",
        "bd_x_valid, bd_y_valid = data_loader(bd_data_valid)"
      ]
    },
    {
      "cell_type": "code",
      "execution_count": 6,
      "metadata": {},
      "outputs": [
        {
          "name": "stdout",
          "output_type": "stream",
          "text": [
            "361/361 [==============================] - 2s 5ms/step\n",
            "Clean Classification accuracy: 98.64899974019225\n",
            "361/361 [==============================] - 2s 6ms/step\n",
            "Attack Success Rate: 100.0\n"
          ]
        }
      ],
      "source": [
        "cl_label_p = np.argmax(bd_model.predict(cl_x_valid), axis=1)\n",
        "clean_accuracy = np.mean(np.equal(cl_label_p, cl_y_valid))*100\n",
        "print('Clean Classification accuracy:', clean_accuracy)\n",
        "\n",
        "bd_label_p = np.argmax(bd_model.predict(bd_x_valid), axis=1)\n",
        "success_rate = np.mean(np.equal(bd_label_p, bd_y_valid))*100\n",
        "print('Attack Success Rate:', success_rate)"
      ]
    },
    {
      "cell_type": "code",
      "execution_count": 7,
      "metadata": {
        "colab": {
          "base_uri": "https://localhost:8080/"
        },
        "id": "7p0UueLQsDnG",
        "outputId": "c63dc07f-a2a0-43d6-c386-6eb3ebc88d1d"
      },
      "outputs": [
        {
          "name": "stdout",
          "output_type": "stream",
          "text": [
            "Model: \"model_1\"\n",
            "__________________________________________________________________________________________________\n",
            " Layer (type)                Output Shape                 Param #   Connected to                  \n",
            "==================================================================================================\n",
            " input (InputLayer)          [(None, 55, 47, 3)]          0         []                            \n",
            "                                                                                                  \n",
            " conv_1 (Conv2D)             (None, 52, 44, 20)           980       ['input[0][0]']               \n",
            "                                                                                                  \n",
            " pool_1 (MaxPooling2D)       (None, 26, 22, 20)           0         ['conv_1[0][0]']              \n",
            "                                                                                                  \n",
            " conv_2 (Conv2D)             (None, 24, 20, 40)           7240      ['pool_1[0][0]']              \n",
            "                                                                                                  \n",
            " pool_2 (MaxPooling2D)       (None, 12, 10, 40)           0         ['conv_2[0][0]']              \n",
            "                                                                                                  \n",
            " conv_3 (Conv2D)             (None, 10, 8, 60)            21660     ['pool_2[0][0]']              \n",
            "                                                                                                  \n",
            " pool_3 (MaxPooling2D)       (None, 5, 4, 60)             0         ['conv_3[0][0]']              \n",
            "                                                                                                  \n",
            " conv_4 (Conv2D)             (None, 4, 3, 80)             19280     ['pool_3[0][0]']              \n",
            "                                                                                                  \n",
            " flatten_1 (Flatten)         (None, 1200)                 0         ['pool_3[0][0]']              \n",
            "                                                                                                  \n",
            " flatten_2 (Flatten)         (None, 960)                  0         ['conv_4[0][0]']              \n",
            "                                                                                                  \n",
            " fc_1 (Dense)                (None, 160)                  192160    ['flatten_1[0][0]']           \n",
            "                                                                                                  \n",
            " fc_2 (Dense)                (None, 160)                  153760    ['flatten_2[0][0]']           \n",
            "                                                                                                  \n",
            " add_1 (Add)                 (None, 160)                  0         ['fc_1[0][0]',                \n",
            "                                                                     'fc_2[0][0]']                \n",
            "                                                                                                  \n",
            " activation_1 (Activation)   (None, 160)                  0         ['add_1[0][0]']               \n",
            "                                                                                                  \n",
            " output (Dense)              (None, 1283)                 206563    ['activation_1[0][0]']        \n",
            "                                                                                                  \n",
            "==================================================================================================\n",
            "Total params: 601643 (2.30 MB)\n",
            "Trainable params: 601643 (2.30 MB)\n",
            "Non-trainable params: 0 (0.00 Byte)\n",
            "__________________________________________________________________________________________________\n",
            "None\n"
          ]
        }
      ],
      "source": [
        "print(bd_model.summary())"
      ]
    },
    {
      "cell_type": "code",
      "execution_count": 8,
      "metadata": {},
      "outputs": [
        {
          "name": "stdout",
          "output_type": "stream",
          "text": [
            "Number of output classes (N): 1283\n"
          ]
        }
      ],
      "source": [
        "output_classes = bd_model.layers[-1].output_shape[-1]\n",
        "print(\"Number of output classes (N):\", output_classes)"
      ]
    },
    {
      "cell_type": "code",
      "execution_count": 9,
      "metadata": {
        "id": "RXb7S9N7sDpX"
      },
      "outputs": [],
      "source": [
        "# get the data\n",
        "cl_x_valid, cl_y_valid = data_loader(cl_data_valid)\n",
        "bd_x_valid, bd_y_valid = data_loader(bd_data_valid)"
      ]
    },
    {
      "cell_type": "code",
      "execution_count": 10,
      "metadata": {
        "colab": {
          "base_uri": "https://localhost:8080/",
          "height": 675
        },
        "id": "K8-1GgP9Q6At",
        "outputId": "1ee9a501-29f2-4133-c6e6-9b38cf49eafd"
      },
      "outputs": [
        {
          "data": {
            "image/png": "[encoded data removed]",
            "text/plain": [
              "<Figure size 1000x800 with 9 Axes>"
            ]
          },
          "metadata": {},
          "output_type": "display_data"
        }
      ],
      "source": [
        "figure = plt.figure(figsize=(10,8))\n",
        "cols, rows = 3,3\n",
        "for i in range(1, cols*rows+1):\n",
        "  index = np.random.randint(cl_x_valid.shape[0], size=1)\n",
        "  img, label = (cl_x_valid[index], cl_y_valid[index])\n",
        "  figure.add_subplot(rows, cols, i)\n",
        "  plt.title(\"true label: {}\".format(label))\n",
        "  plt.axis(\"off\")\n",
        "  plt.imshow(img[0]/255)\n",
        "plt.show()"
      ]
    },
    {
      "cell_type": "code",
      "execution_count": 11,
      "metadata": {
        "colab": {
          "base_uri": "https://localhost:8080/",
          "height": 675
        },
        "id": "Kb5PUI1YRE1k",
        "outputId": "fb2aa25a-2f04-4830-e8fa-33873e353b34"
      },
      "outputs": [
        {
          "data": {
            "image/png": "[encoded data removed]",
            "text/plain": [
              "<Figure size 1000x800 with 9 Axes>"
            ]
          },
          "metadata": {},
          "output_type": "display_data"
        }
      ],
      "source": [
        "figure = plt.figure(figsize=(10,8))\n",
        "cols, rows = 3,3\n",
        "for i in range(1, cols*rows+1):\n",
        "  index = np.random.randint(bd_x_valid.shape[0], size=1)\n",
        "  img, label = (bd_x_valid[index], bd_y_valid[index])\n",
        "  figure.add_subplot(rows, cols, i)\n",
        "  plt.title(\"true label: {}\".format(label))\n",
        "  plt.axis(\"off\")\n",
        "  plt.imshow(img[0]/255)\n",
        "plt.show()"
      ]
    },
    {
      "cell_type": "code",
      "execution_count": 12,
      "metadata": {
        "id": "jb_TSQ82RLTZ"
      },
      "outputs": [],
      "source": [
        "# clearing the session\n",
        "keras.backend.clear_session()"
      ]
    },
    {
      "cell_type": "code",
      "execution_count": 13,
      "metadata": {},
      "outputs": [
        {
          "name": "stdout",
          "output_type": "stream",
          "text": [
            "361/361 [==============================] - 1s 4ms/step\n",
            "[0.0000000e+00 8.5787809e-01 0.0000000e+00 5.3079778e-01 5.1451392e+00\n",
            " 2.0289583e+00 6.2408661e-03 5.3690352e+00 2.1106055e+00 0.0000000e+00\n",
            " 4.1488924e+00 2.1980379e+00 0.0000000e+00 0.0000000e+00 0.0000000e+00\n",
            " 0.0000000e+00 1.5654891e+00 0.0000000e+00 5.0868411e+00 2.4381575e-01\n",
            " 1.8378231e-01 8.3539166e-02 4.3979678e-02 3.0290761e-03 0.0000000e+00\n",
            " 0.0000000e+00 0.0000000e+00 0.0000000e+00 4.8440871e+00 1.0589780e+00\n",
            " 0.0000000e+00 0.0000000e+00 1.5006668e-02 0.0000000e+00 0.0000000e+00\n",
            " 4.8648086e+00 0.0000000e+00 0.0000000e+00 0.0000000e+00 0.0000000e+00\n",
            " 0.0000000e+00 0.0000000e+00 5.7658589e-01 4.2763174e-01 0.0000000e+00\n",
            " 0.0000000e+00 1.8540378e+00 0.0000000e+00 0.0000000e+00 0.0000000e+00\n",
            " 0.0000000e+00 1.3321567e-02 6.2038708e+00 0.0000000e+00 3.6191158e+00\n",
            " 0.0000000e+00 1.6352932e+00 8.2229834e+00 5.0732869e-01 0.0000000e+00]\n",
            "[ 0 26 27 30 31 33 34 36 37 38 25 39 41 44 45 47 48 49 50 53 55 40 24 59\n",
            "  9  2 12 13 17 14 15 23  6 51 32 22 21 20 19 43 58  3 42  1 29 16 56 46\n",
            "  5  8 11 54 10 28 35 18  4  7 52 57]\n"
          ]
        }
      ],
      "source": [
        "clean_data_acc = clean_accuracy\n",
        "clean_acc_list = []\n",
        "success_rate_list = []\n",
        "\n",
        "model_copy = keras.models.clone_model(bd_model)\n",
        "model_copy.set_weights(bd_model.get_weights())\n",
        "saved_models = np.zeros(4, dtype=bool)\n",
        "\n",
        "# activation extraction from the last pooling layer - pool_3\n",
        "pool3_layer = model_copy.get_layer('pool_3').output\n",
        "new_model = keras.models.Model(inputs=model_copy.input, outputs=pool3_layer)\n",
        "new_pred = new_model.predict(cl_x_valid)\n",
        "\n",
        "temp = np.mean(new_pred, axis = (0, 1, 2))\n",
        "# seq = np.argsort(temp)[::-1] # descending order of activation\n",
        "seq = np.argsort(temp)\n",
        "print(temp)\n",
        "print(seq)\n",
        "weight_0 = model_copy.layers[5].get_weights()[0]\n",
        "bias_0 = model_copy.layers[5].get_weights()[1]"
      ]
    },
    {
      "cell_type": "code",
      "execution_count": 14,
      "metadata": {
        "colab": {
          "base_uri": "https://localhost:8080/"
        },
        "id": "my4cSiEdQ6C8",
        "outputId": "ec0a290b-55cc-447d-c213-93e70abc55d3"
      },
      "outputs": [
        {
          "name": "stderr",
          "output_type": "stream",
          "text": [
            "  0%|          | 0/60 [00:00<?, ?it/s]"
          ]
        },
        {
          "name": "stdout",
          "output_type": "stream",
          "text": [
            "361/361 [==============================] - 2s 5ms/step\n",
            "361/361 [==============================] - 2s 5ms/step\n"
          ]
        },
        {
          "name": "stderr",
          "output_type": "stream",
          "text": [
            "  2%|▏         | 1/60 [00:05<05:22,  5.46s/it]"
          ]
        },
        {
          "name": "stdout",
          "output_type": "stream",
          "text": [
            "The clean accuracy is:  98.64899974019225\n",
            "The attack success rate is:  100.0\n",
            "The pruned channel index is:  0\n",
            "361/361 [==============================] - 2s 5ms/step\n",
            "361/361 [==============================] - 2s 5ms/step\n"
          ]
        },
        {
          "name": "stderr",
          "output_type": "stream",
          "text": [
            "  3%|▎         | 2/60 [00:10<05:05,  5.26s/it]"
          ]
        },
        {
          "name": "stdout",
          "output_type": "stream",
          "text": [
            "The clean accuracy is:  98.64899974019225\n",
            "The attack success rate is:  100.0\n",
            "The pruned channel index is:  26\n",
            "361/361 [==============================] - 2s 5ms/step\n",
            "361/361 [==============================] - 2s 5ms/step\n",
            "The clean accuracy is:  98.64899974019225\n",
            "The attack success rate is:  100.0\n",
            "The pruned channel index is:  27\n"
          ]
        },
        {
          "name": "stderr",
          "output_type": "stream",
          "text": [
            "  5%|▌         | 3/60 [00:15<05:01,  5.28s/it]"
          ]
        },
        {
          "name": "stdout",
          "output_type": "stream",
          "text": [
            "361/361 [==============================] - 2s 5ms/step\n",
            "361/361 [==============================] - 2s 5ms/step\n"
          ]
        },
        {
          "name": "stderr",
          "output_type": "stream",
          "text": [
            "  7%|▋         | 4/60 [00:21<04:58,  5.32s/it]"
          ]
        },
        {
          "name": "stdout",
          "output_type": "stream",
          "text": [
            "The clean accuracy is:  98.64899974019225\n",
            "The attack success rate is:  100.0\n",
            "The pruned channel index is:  30\n",
            "361/361 [==============================] - 2s 5ms/step\n",
            "361/361 [==============================] - 2s 5ms/step\n"
          ]
        },
        {
          "name": "stderr",
          "output_type": "stream",
          "text": [
            "  8%|▊         | 5/60 [00:26<04:45,  5.19s/it]"
          ]
        },
        {
          "name": "stdout",
          "output_type": "stream",
          "text": [
            "The clean accuracy is:  98.64899974019225\n",
            "The attack success rate is:  100.0\n",
            "The pruned channel index is:  31\n",
            "361/361 [==============================] - 2s 5ms/step\n",
            "361/361 [==============================] - 2s 5ms/step\n"
          ]
        },
        {
          "name": "stderr",
          "output_type": "stream",
          "text": [
            " 10%|█         | 6/60 [00:30<04:27,  4.95s/it]"
          ]
        },
        {
          "name": "stdout",
          "output_type": "stream",
          "text": [
            "The clean accuracy is:  98.64899974019225\n",
            "The attack success rate is:  100.0\n",
            "The pruned channel index is:  33\n",
            "361/361 [==============================] - 2s 5ms/step\n",
            "361/361 [==============================] - 2s 5ms/step\n",
            "The clean accuracy is:  98.64899974019225\n",
            "The attack success rate is:  100.0\n",
            "The pruned channel index is:  34\n"
          ]
        },
        {
          "name": "stderr",
          "output_type": "stream",
          "text": [
            " 12%|█▏        | 7/60 [00:35<04:25,  5.01s/it]"
          ]
        },
        {
          "name": "stdout",
          "output_type": "stream",
          "text": [
            "361/361 [==============================] - 2s 5ms/step\n",
            "361/361 [==============================] - 2s 5ms/step\n"
          ]
        },
        {
          "name": "stderr",
          "output_type": "stream",
          "text": [
            " 13%|█▎        | 8/60 [00:40<04:20,  5.00s/it]"
          ]
        },
        {
          "name": "stdout",
          "output_type": "stream",
          "text": [
            "The clean accuracy is:  98.64899974019225\n",
            "The attack success rate is:  100.0\n",
            "The pruned channel index is:  36\n",
            "361/361 [==============================] - 2s 5ms/step\n",
            "361/361 [==============================] - 2s 5ms/step\n"
          ]
        },
        {
          "name": "stderr",
          "output_type": "stream",
          "text": [
            " 15%|█▌        | 9/60 [00:45<04:04,  4.80s/it]"
          ]
        },
        {
          "name": "stdout",
          "output_type": "stream",
          "text": [
            "The clean accuracy is:  98.64899974019225\n",
            "The attack success rate is:  100.0\n",
            "The pruned channel index is:  37\n",
            "361/361 [==============================] - 2s 5ms/step\n",
            "361/361 [==============================] - 2s 5ms/step\n"
          ]
        },
        {
          "name": "stderr",
          "output_type": "stream",
          "text": [
            " 17%|█▋        | 10/60 [00:50<04:05,  4.90s/it]"
          ]
        },
        {
          "name": "stdout",
          "output_type": "stream",
          "text": [
            "The clean accuracy is:  98.64899974019225\n",
            "The attack success rate is:  100.0\n",
            "The pruned channel index is:  38\n",
            "361/361 [==============================] - 2s 5ms/step\n",
            "361/361 [==============================] - 2s 5ms/step\n"
          ]
        },
        {
          "name": "stderr",
          "output_type": "stream",
          "text": [
            " 18%|█▊        | 11/60 [00:55<04:03,  4.98s/it]"
          ]
        },
        {
          "name": "stdout",
          "output_type": "stream",
          "text": [
            "The clean accuracy is:  98.64899974019225\n",
            "The attack success rate is:  100.0\n",
            "The pruned channel index is:  25\n",
            "361/361 [==============================] - 2s 5ms/step\n",
            "361/361 [==============================] - 2s 5ms/step\n"
          ]
        },
        {
          "name": "stderr",
          "output_type": "stream",
          "text": [
            " 20%|██        | 12/60 [01:00<03:52,  4.85s/it]"
          ]
        },
        {
          "name": "stdout",
          "output_type": "stream",
          "text": [
            "The clean accuracy is:  98.64899974019225\n",
            "The attack success rate is:  100.0\n",
            "The pruned channel index is:  39\n",
            "361/361 [==============================] - 2s 5ms/step\n",
            "361/361 [==============================] - 2s 5ms/step\n"
          ]
        },
        {
          "name": "stderr",
          "output_type": "stream",
          "text": [
            " 22%|██▏       | 13/60 [01:05<03:51,  4.92s/it]"
          ]
        },
        {
          "name": "stdout",
          "output_type": "stream",
          "text": [
            "The clean accuracy is:  98.64899974019225\n",
            "The attack success rate is:  100.0\n",
            "The pruned channel index is:  41\n",
            "361/361 [==============================] - 2s 5ms/step\n",
            "361/361 [==============================] - 2s 5ms/step\n"
          ]
        },
        {
          "name": "stderr",
          "output_type": "stream",
          "text": [
            " 23%|██▎       | 14/60 [01:10<03:47,  4.94s/it]"
          ]
        },
        {
          "name": "stdout",
          "output_type": "stream",
          "text": [
            "The clean accuracy is:  98.64899974019225\n",
            "The attack success rate is:  100.0\n",
            "The pruned channel index is:  44\n",
            "361/361 [==============================] - 2s 5ms/step\n",
            "361/361 [==============================] - 2s 5ms/step\n"
          ]
        },
        {
          "name": "stderr",
          "output_type": "stream",
          "text": [
            " 25%|██▌       | 15/60 [01:14<03:37,  4.84s/it]"
          ]
        },
        {
          "name": "stdout",
          "output_type": "stream",
          "text": [
            "The clean accuracy is:  98.64899974019225\n",
            "The attack success rate is:  100.0\n",
            "The pruned channel index is:  45\n",
            "361/361 [==============================] - 2s 5ms/step\n",
            "361/361 [==============================] - 2s 5ms/step\n"
          ]
        },
        {
          "name": "stderr",
          "output_type": "stream",
          "text": [
            " 27%|██▋       | 16/60 [01:20<03:39,  5.00s/it]"
          ]
        },
        {
          "name": "stdout",
          "output_type": "stream",
          "text": [
            "The clean accuracy is:  98.64899974019225\n",
            "The attack success rate is:  100.0\n",
            "The pruned channel index is:  47\n",
            "361/361 [==============================] - 2s 5ms/step\n",
            "361/361 [==============================] - 2s 5ms/step\n"
          ]
        },
        {
          "name": "stderr",
          "output_type": "stream",
          "text": [
            " 28%|██▊       | 17/60 [01:25<03:37,  5.07s/it]"
          ]
        },
        {
          "name": "stdout",
          "output_type": "stream",
          "text": [
            "The clean accuracy is:  98.64899974019225\n",
            "The attack success rate is:  100.0\n",
            "The pruned channel index is:  48\n",
            "361/361 [==============================] - 2s 5ms/step\n",
            "361/361 [==============================] - 2s 5ms/step\n"
          ]
        },
        {
          "name": "stderr",
          "output_type": "stream",
          "text": [
            " 30%|███       | 18/60 [01:30<03:28,  4.97s/it]"
          ]
        },
        {
          "name": "stdout",
          "output_type": "stream",
          "text": [
            "The clean accuracy is:  98.64899974019225\n",
            "The attack success rate is:  100.0\n",
            "The pruned channel index is:  49\n",
            "361/361 [==============================] - 2s 5ms/step\n",
            "361/361 [==============================] - 2s 5ms/step\n",
            "The clean accuracy is:  98.64899974019225\n",
            "The attack success rate is:  100.0\n",
            "The pruned channel index is:  50\n"
          ]
        },
        {
          "name": "stderr",
          "output_type": "stream",
          "text": [
            " 32%|███▏      | 19/60 [01:35<03:28,  5.09s/it]"
          ]
        },
        {
          "name": "stdout",
          "output_type": "stream",
          "text": [
            "361/361 [==============================] - 2s 5ms/step\n",
            "361/361 [==============================] - 2s 5ms/step\n",
            "The clean accuracy is:  98.64899974019225\n",
            "The attack success rate is:  100.0\n",
            "The pruned channel index is:  53\n"
          ]
        },
        {
          "name": "stderr",
          "output_type": "stream",
          "text": [
            " 33%|███▎      | 20/60 [01:40<03:23,  5.10s/it]"
          ]
        },
        {
          "name": "stdout",
          "output_type": "stream",
          "text": [
            "361/361 [==============================] - 2s 5ms/step\n",
            "361/361 [==============================] - 2s 5ms/step\n"
          ]
        },
        {
          "name": "stderr",
          "output_type": "stream",
          "text": [
            " 35%|███▌      | 21/60 [01:45<03:12,  4.94s/it]"
          ]
        },
        {
          "name": "stdout",
          "output_type": "stream",
          "text": [
            "The clean accuracy is:  98.64899974019225\n",
            "The attack success rate is:  100.0\n",
            "The pruned channel index is:  55\n",
            "361/361 [==============================] - 2s 5ms/step\n",
            "361/361 [==============================] - 2s 5ms/step\n"
          ]
        },
        {
          "name": "stderr",
          "output_type": "stream",
          "text": [
            " 37%|███▋      | 22/60 [01:50<03:13,  5.10s/it]"
          ]
        },
        {
          "name": "stdout",
          "output_type": "stream",
          "text": [
            "The clean accuracy is:  98.64899974019225\n",
            "The attack success rate is:  100.0\n",
            "The pruned channel index is:  40\n",
            "361/361 [==============================] - 2s 5ms/step\n",
            "361/361 [==============================] - 2s 5ms/step\n",
            "The clean accuracy is: "
          ]
        },
        {
          "name": "stderr",
          "output_type": "stream",
          "text": [
            " 38%|███▊      | 23/60 [01:55<03:09,  5.11s/it]"
          ]
        },
        {
          "name": "stdout",
          "output_type": "stream",
          "text": [
            " 98.64899974019225\n",
            "The attack success rate is:  100.0\n",
            "The pruned channel index is:  24\n",
            "361/361 [==============================] - 2s 5ms/step\n",
            "361/361 [==============================] - 2s 5ms/step\n"
          ]
        },
        {
          "name": "stderr",
          "output_type": "stream",
          "text": [
            " 40%|████      | 24/60 [02:00<02:58,  4.95s/it]"
          ]
        },
        {
          "name": "stdout",
          "output_type": "stream",
          "text": [
            "The clean accuracy is:  98.64899974019225\n",
            "The attack success rate is:  100.0\n",
            "The pruned channel index is:  59\n",
            "361/361 [==============================] - 2s 5ms/step\n",
            "361/361 [==============================] - 2s 5ms/step\n"
          ]
        },
        {
          "name": "stderr",
          "output_type": "stream",
          "text": [
            " 42%|████▏     | 25/60 [02:05<02:58,  5.11s/it]"
          ]
        },
        {
          "name": "stdout",
          "output_type": "stream",
          "text": [
            "The clean accuracy is:  98.64899974019225\n",
            "The attack success rate is:  100.0\n",
            "The pruned channel index is:  9\n",
            "361/361 [==============================] - 2s 5ms/step\n",
            "361/361 [==============================] - 2s 5ms/step\n"
          ]
        },
        {
          "name": "stderr",
          "output_type": "stream",
          "text": [
            " 43%|████▎     | 26/60 [02:10<02:54,  5.14s/it]"
          ]
        },
        {
          "name": "stdout",
          "output_type": "stream",
          "text": [
            "The clean accuracy is:  98.64899974019225\n",
            "The attack success rate is:  100.0\n",
            "The pruned channel index is:  2\n",
            "361/361 [==============================] - 2s 5ms/step\n",
            "361/361 [==============================] - 2s 5ms/step\n"
          ]
        },
        {
          "name": "stderr",
          "output_type": "stream",
          "text": [
            " 45%|████▌     | 27/60 [02:15<02:44,  4.97s/it]"
          ]
        },
        {
          "name": "stdout",
          "output_type": "stream",
          "text": [
            "The clean accuracy is:  98.64899974019225\n",
            "The attack success rate is:  100.0\n",
            "The pruned channel index is:  12\n",
            "361/361 [==============================] - 2s 5ms/step\n",
            "361/361 [==============================] - 2s 5ms/step\n"
          ]
        },
        {
          "name": "stderr",
          "output_type": "stream",
          "text": [
            " 47%|████▋     | 28/60 [02:20<02:43,  5.11s/it]"
          ]
        },
        {
          "name": "stdout",
          "output_type": "stream",
          "text": [
            "The clean accuracy is:  98.64899974019225\n",
            "The attack success rate is:  100.0\n",
            "The pruned channel index is:  13\n",
            "361/361 [==============================] - 2s 5ms/step\n",
            "361/361 [==============================] - 2s 5ms/step\n"
          ]
        },
        {
          "name": "stderr",
          "output_type": "stream",
          "text": [
            " 48%|████▊     | 29/60 [02:26<02:39,  5.16s/it]"
          ]
        },
        {
          "name": "stdout",
          "output_type": "stream",
          "text": [
            "The clean accuracy is:  98.64899974019225\n",
            "The attack success rate is:  100.0\n",
            "The pruned channel index is:  17\n",
            "361/361 [==============================] - 2s 5ms/step\n",
            "361/361 [==============================] - 2s 5ms/step\n"
          ]
        },
        {
          "name": "stderr",
          "output_type": "stream",
          "text": [
            " 50%|█████     | 30/60 [02:30<02:30,  5.01s/it]"
          ]
        },
        {
          "name": "stdout",
          "output_type": "stream",
          "text": [
            "The clean accuracy is:  98.64899974019225\n",
            "The attack success rate is:  100.0\n",
            "The pruned channel index is:  14\n",
            "361/361 [==============================] - 2s 5ms/step\n",
            "361/361 [==============================] - 2s 5ms/step\n"
          ]
        },
        {
          "name": "stderr",
          "output_type": "stream",
          "text": [
            " 52%|█████▏    | 31/60 [02:36<02:28,  5.11s/it]"
          ]
        },
        {
          "name": "stdout",
          "output_type": "stream",
          "text": [
            "The clean accuracy is:  98.64899974019225\n",
            "The attack success rate is:  100.0\n",
            "The pruned channel index is:  15\n",
            "361/361 [==============================] - 2s 6ms/step\n",
            "361/361 [==============================] - 2s 6ms/step\n"
          ]
        },
        {
          "name": "stderr",
          "output_type": "stream",
          "text": [
            " 53%|█████▎    | 32/60 [02:41<02:27,  5.26s/it]"
          ]
        },
        {
          "name": "stdout",
          "output_type": "stream",
          "text": [
            "The clean accuracy is:  98.64899974019225\n",
            "The attack success rate is:  100.0\n",
            "The pruned channel index is:  23\n",
            "361/361 [==============================] - 2s 5ms/step\n",
            "361/361 [==============================] - 2s 5ms/step\n"
          ]
        },
        {
          "name": "stderr",
          "output_type": "stream",
          "text": [
            " 55%|█████▌    | 33/60 [02:46<02:18,  5.15s/it]"
          ]
        },
        {
          "name": "stdout",
          "output_type": "stream",
          "text": [
            "The clean accuracy is:  98.64899974019225\n",
            "The attack success rate is:  100.0\n",
            "The pruned channel index is:  6\n",
            "361/361 [==============================] - 2s 5ms/step\n",
            "361/361 [==============================] - 2s 5ms/step\n"
          ]
        },
        {
          "name": "stderr",
          "output_type": "stream",
          "text": [
            " 57%|█████▋    | 34/60 [02:52<02:16,  5.25s/it]"
          ]
        },
        {
          "name": "stdout",
          "output_type": "stream",
          "text": [
            "The clean accuracy is:  98.64033948211657\n",
            "The attack success rate is:  100.0\n",
            "The pruned channel index is:  51\n",
            "361/361 [==============================] - 2s 6ms/step\n",
            "361/361 [==============================] - 2s 5ms/step\n"
          ]
        },
        {
          "name": "stderr",
          "output_type": "stream",
          "text": [
            " 58%|█████▊    | 35/60 [02:57<02:11,  5.28s/it]"
          ]
        },
        {
          "name": "stdout",
          "output_type": "stream",
          "text": [
            "The clean accuracy is:  98.64033948211657\n",
            "The attack success rate is:  100.0\n",
            "The pruned channel index is:  32\n",
            "361/361 [==============================] - 2s 5ms/step\n",
            "361/361 [==============================] - 2s 5ms/step\n"
          ]
        },
        {
          "name": "stderr",
          "output_type": "stream",
          "text": [
            " 60%|██████    | 36/60 [03:02<02:03,  5.13s/it]"
          ]
        },
        {
          "name": "stdout",
          "output_type": "stream",
          "text": [
            "The clean accuracy is:  98.63167922404088\n",
            "The attack success rate is:  100.0\n",
            "The pruned channel index is:  22\n",
            "361/361 [==============================] - 2s 5ms/step\n",
            "361/361 [==============================] - 2s 5ms/step\n"
          ]
        },
        {
          "name": "stderr",
          "output_type": "stream",
          "text": [
            " 62%|██████▏   | 37/60 [03:07<02:00,  5.22s/it]"
          ]
        },
        {
          "name": "stdout",
          "output_type": "stream",
          "text": [
            "The clean accuracy is:  98.65765999826795\n",
            "The attack success rate is:  100.0\n",
            "The pruned channel index is:  21\n",
            "361/361 [==============================] - 3s 9ms/step\n",
            "361/361 [==============================] - 2s 5ms/step\n"
          ]
        },
        {
          "name": "stderr",
          "output_type": "stream",
          "text": [
            " 63%|██████▎   | 38/60 [03:14<02:05,  5.72s/it]"
          ]
        },
        {
          "name": "stdout",
          "output_type": "stream",
          "text": [
            "The clean accuracy is:  98.64899974019225\n",
            "The attack success rate is:  100.0\n",
            "The pruned channel index is:  20\n",
            "361/361 [==============================] - 2s 5ms/step\n",
            "361/361 [==============================] - 2s 5ms/step\n"
          ]
        },
        {
          "name": "stderr",
          "output_type": "stream",
          "text": [
            " 65%|██████▌   | 39/60 [03:19<01:54,  5.45s/it]"
          ]
        },
        {
          "name": "stdout",
          "output_type": "stream",
          "text": [
            "The clean accuracy is:  98.6056984498138\n",
            "The attack success rate is:  100.0\n",
            "The pruned channel index is:  19\n",
            "361/361 [==============================] - 2s 5ms/step\n",
            "361/361 [==============================] - 2s 6ms/step\n"
          ]
        },
        {
          "name": "stderr",
          "output_type": "stream",
          "text": [
            " 67%|██████▋   | 40/60 [03:25<01:49,  5.47s/it]"
          ]
        },
        {
          "name": "stdout",
          "output_type": "stream",
          "text": [
            "The clean accuracy is:  98.57105741751104\n",
            "The attack success rate is:  100.0\n",
            "The pruned channel index is:  43\n",
            "361/361 [==============================] - 2s 6ms/step\n",
            "361/361 [==============================] - 2s 5ms/step\n"
          ]
        },
        {
          "name": "stderr",
          "output_type": "stream",
          "text": [
            " 68%|██████▊   | 41/60 [03:30<01:43,  5.46s/it]"
          ]
        },
        {
          "name": "stdout",
          "output_type": "stream",
          "text": [
            "The clean accuracy is:  98.53641638520828\n",
            "The attack success rate is:  100.0\n",
            "The pruned channel index is:  58\n",
            "361/361 [==============================] - 2s 5ms/step\n",
            "361/361 [==============================] - 2s 5ms/step\n"
          ]
        },
        {
          "name": "stderr",
          "output_type": "stream",
          "text": [
            " 70%|███████   | 42/60 [03:35<01:34,  5.26s/it]"
          ]
        },
        {
          "name": "stdout",
          "output_type": "stream",
          "text": [
            "The clean accuracy is:  98.19000606218066\n",
            "The attack success rate is:  100.0\n",
            "The pruned channel index is:  3\n",
            "361/361 [==============================] - 2s 5ms/step\n",
            "361/361 [==============================] - 2s 5ms/step\n"
          ]
        },
        {
          "name": "stderr",
          "output_type": "stream",
          "text": [
            " 72%|███████▏  | 43/60 [03:40<01:31,  5.39s/it]"
          ]
        },
        {
          "name": "stdout",
          "output_type": "stream",
          "text": [
            "The clean accuracy is:  97.65307006148784\n",
            "The attack success rate is:  100.0\n",
            "The pruned channel index is:  42\n",
            "361/361 [==============================] - 2s 6ms/step\n",
            "361/361 [==============================] - 2s 5ms/step\n"
          ]
        },
        {
          "name": "stderr",
          "output_type": "stream",
          "text": [
            " 73%|███████▎  | 44/60 [03:46<01:25,  5.36s/it]"
          ]
        },
        {
          "name": "stdout",
          "output_type": "stream",
          "text": [
            "The clean accuracy is:  97.50584567420108\n",
            "The attack success rate is:  100.0\n",
            "The pruned channel index is:  1\n",
            "361/361 [==============================] - 2s 5ms/step\n",
            "The accuracy drops at least 2%, saved the model 95.75647354291158\n",
            "WARNING:tensorflow:Compiled the loaded model, but the compiled metrics have yet to be built. `model.compile_metrics` will be empty until you train or evaluate the model.\n",
            "361/361 [==============================] - 2s 5ms/step\n"
          ]
        },
        {
          "name": "stderr",
          "output_type": "stream",
          "text": [
            " 75%|███████▌  | 45/60 [03:51<01:19,  5.29s/it]"
          ]
        },
        {
          "name": "stdout",
          "output_type": "stream",
          "text": [
            "The clean accuracy is:  95.75647354291158\n",
            "The attack success rate is:  100.0\n",
            "The pruned channel index is:  29\n",
            "361/361 [==============================] - 2s 5ms/step\n",
            "361/361 [==============================] - 2s 6ms/step\n"
          ]
        },
        {
          "name": "stderr",
          "output_type": "stream",
          "text": [
            " 77%|███████▋  | 46/60 [03:57<01:17,  5.52s/it]"
          ]
        },
        {
          "name": "stdout",
          "output_type": "stream",
          "text": [
            "The clean accuracy is:  95.20221702606739\n",
            "The attack success rate is:  99.9913397419243\n",
            "The pruned channel index is:  16\n",
            "361/361 [==============================] - 2s 6ms/step\n",
            "361/361 [==============================] - 2s 6ms/step\n"
          ]
        },
        {
          "name": "stderr",
          "output_type": "stream",
          "text": [
            " 78%|███████▊  | 47/60 [04:02<01:11,  5.51s/it]"
          ]
        },
        {
          "name": "stdout",
          "output_type": "stream",
          "text": [
            "The clean accuracy is:  94.7172425738287\n",
            "The attack success rate is:  99.9913397419243\n",
            "The pruned channel index is:  56\n",
            "361/361 [==============================] - 2s 6ms/step\n",
            "The accuracy drops at least 4%, saved the model 92.09318437689443\n",
            "WARNING:tensorflow:Compiled the loaded model, but the compiled metrics have yet to be built. `model.compile_metrics` will be empty until you train or evaluate the model.\n",
            "361/361 [==============================] - 2s 5ms/step\n"
          ]
        },
        {
          "name": "stderr",
          "output_type": "stream",
          "text": [
            " 80%|████████  | 48/60 [04:07<01:04,  5.39s/it]"
          ]
        },
        {
          "name": "stdout",
          "output_type": "stream",
          "text": [
            "The clean accuracy is:  92.09318437689443\n",
            "The attack success rate is:  99.9913397419243\n",
            "The pruned channel index is:  46\n",
            "361/361 [==============================] - 2s 5ms/step\n",
            "361/361 [==============================] - 2s 6ms/step\n"
          ]
        },
        {
          "name": "stderr",
          "output_type": "stream",
          "text": [
            " 82%|████████▏ | 49/60 [04:13<01:00,  5.47s/it]"
          ]
        },
        {
          "name": "stdout",
          "output_type": "stream",
          "text": [
            "The clean accuracy is:  91.49562656967177\n",
            "The attack success rate is:  99.9913397419243\n",
            "The pruned channel index is:  5\n",
            "361/361 [==============================] - 2s 6ms/step\n",
            "361/361 [==============================] - 2s 6ms/step\n"
          ]
        },
        {
          "name": "stderr",
          "output_type": "stream",
          "text": [
            " 83%|████████▎ | 50/60 [04:19<00:54,  5.47s/it]"
          ]
        },
        {
          "name": "stdout",
          "output_type": "stream",
          "text": [
            "The clean accuracy is:  91.01931237550879\n",
            "The attack success rate is:  99.98267948384861\n",
            "The pruned channel index is:  8\n",
            "361/361 [==============================] - 2s 5ms/step\n",
            "361/361 [==============================] - 2s 5ms/step\n"
          ]
        },
        {
          "name": "stderr",
          "output_type": "stream",
          "text": [
            " 85%|████████▌ | 51/60 [04:23<00:47,  5.29s/it]"
          ]
        },
        {
          "name": "stdout",
          "output_type": "stream",
          "text": [
            "The clean accuracy is:  89.17467740538669\n",
            "The attack success rate is:  80.73958603966398\n",
            "The pruned channel index is:  11\n",
            "361/361 [==============================] - 2s 5ms/step\n",
            "The accuracy drops at least 10%, saved the model 84.43751623798389\n",
            "WARNING:tensorflow:Compiled the loaded model, but the compiled metrics have yet to be built. `model.compile_metrics` will be empty until you train or evaluate the model.\n",
            "361/361 [==============================] - 2s 5ms/step\n"
          ]
        },
        {
          "name": "stderr",
          "output_type": "stream",
          "text": [
            " 87%|████████▋ | 52/60 [04:29<00:43,  5.43s/it]"
          ]
        },
        {
          "name": "stdout",
          "output_type": "stream",
          "text": [
            "The clean accuracy is:  84.43751623798389\n",
            "The attack success rate is:  77.015675067117\n",
            "The pruned channel index is:  54\n",
            "361/361 [==============================] - 2s 6ms/step\n",
            "361/361 [==============================] - 2s 5ms/step\n"
          ]
        },
        {
          "name": "stderr",
          "output_type": "stream",
          "text": [
            " 88%|████████▊ | 53/60 [04:35<00:37,  5.40s/it]"
          ]
        },
        {
          "name": "stdout",
          "output_type": "stream",
          "text": [
            "The clean accuracy is:  76.48739932449988\n",
            "The attack success rate is:  35.71490430414826\n",
            "The pruned channel index is:  10\n",
            "361/361 [==============================] - 2s 5ms/step\n",
            "The accuracy drops at least 25%, saved the model 54.8627349095003\n",
            "WARNING:tensorflow:Compiled the loaded model, but the compiled metrics have yet to be built. `model.compile_metrics` will be empty until you train or evaluate the model.\n",
            "361/361 [==============================] - 2s 6ms/step\n"
          ]
        },
        {
          "name": "stderr",
          "output_type": "stream",
          "text": [
            " 90%|█████████ | 54/60 [04:39<00:31,  5.25s/it]"
          ]
        },
        {
          "name": "stdout",
          "output_type": "stream",
          "text": [
            "The clean accuracy is:  54.8627349095003\n",
            "The attack success rate is:  6.954187234779596\n",
            "The pruned channel index is:  28\n",
            "361/361 [==============================] - 2s 5ms/step\n",
            "361/361 [==============================] - 2s 5ms/step\n"
          ]
        },
        {
          "name": "stderr",
          "output_type": "stream",
          "text": [
            " 92%|█████████▏| 55/60 [04:45<00:26,  5.36s/it]"
          ]
        },
        {
          "name": "stdout",
          "output_type": "stream",
          "text": [
            "The clean accuracy is:  27.08928726076037\n",
            "The attack success rate is:  0.4243526457088421\n",
            "The pruned channel index is:  35\n",
            "361/361 [==============================] - 2s 6ms/step\n",
            "361/361 [==============================] - 2s 6ms/step\n"
          ]
        },
        {
          "name": "stderr",
          "output_type": "stream",
          "text": [
            " 93%|█████████▎| 56/60 [04:51<00:21,  5.40s/it]"
          ]
        },
        {
          "name": "stdout",
          "output_type": "stream",
          "text": [
            "The clean accuracy is:  13.87373343725643\n",
            "The attack success rate is:  0.0\n",
            "The pruned channel index is:  18\n",
            "361/361 [==============================] - 2s 5ms/step\n",
            "361/361 [==============================] - 2s 5ms/step\n"
          ]
        },
        {
          "name": "stderr",
          "output_type": "stream",
          "text": [
            " 95%|█████████▌| 57/60 [04:55<00:15,  5.24s/it]"
          ]
        },
        {
          "name": "stdout",
          "output_type": "stream",
          "text": [
            "The clean accuracy is:  7.101411622066338\n",
            "The attack success rate is:  0.0\n",
            "The pruned channel index is:  4\n",
            "361/361 [==============================] - 2s 5ms/step\n",
            "361/361 [==============================] - 2s 6ms/step\n"
          ]
        },
        {
          "name": "stderr",
          "output_type": "stream",
          "text": [
            " 97%|█████████▋| 58/60 [05:01<00:10,  5.42s/it]"
          ]
        },
        {
          "name": "stdout",
          "output_type": "stream",
          "text": [
            "The clean accuracy is:  1.5501861955486274\n",
            "The attack success rate is:  0.0\n",
            "The pruned channel index is:  7\n",
            "361/361 [==============================] - 2s 6ms/step\n",
            "361/361 [==============================] - 2s 6ms/step\n"
          ]
        },
        {
          "name": "stderr",
          "output_type": "stream",
          "text": [
            " 98%|█████████▊| 59/60 [05:07<00:05,  5.47s/it]"
          ]
        },
        {
          "name": "stdout",
          "output_type": "stream",
          "text": [
            "The clean accuracy is:  0.7188014202823244\n",
            "The attack success rate is:  0.0\n",
            "The pruned channel index is:  52\n",
            "361/361 [==============================] - 2s 5ms/step\n",
            "361/361 [==============================] - 2s 5ms/step\n",
            "The clean accuracy is:  0.0779423226812159\n",
            "The attack success rate is:  0.0\n",
            "The pruned channel index is:  57\n"
          ]
        },
        {
          "name": "stderr",
          "output_type": "stream",
          "text": [
            "100%|██████████| 60/60 [05:12<00:00,  5.21s/it]\n"
          ]
        }
      ],
      "source": [
        "# Pruning the channel\n",
        "for channel_index in tqdm(seq):\n",
        "  weight_0[:,:,:,channel_index] = 0\n",
        "  bias_0[channel_index] = 0\n",
        "  \n",
        "  model_copy.layers[5].set_weights([weight_0, bias_0])\n",
        "  cl_label_p = np.argmax(model_copy.predict(cl_x_valid), axis=1)\n",
        "  clean_acc = np.mean(np.equal(cl_label_p, cl_y_valid)) * 100\n",
        "\n",
        "  if (clean_data_acc - clean_acc >= 2 and not saved_models[0]):\n",
        "    print(\"The accuracy drops at least 2%, saved the model\", clean_acc)\n",
        "    model_copy.save('model_X=2.h5')\n",
        "    saved_models[0] = 1\n",
        "  if (clean_data_acc - clean_acc >= 4 and not saved_models[1]):\n",
        "    print(\"The accuracy drops at least 4%, saved the model\", clean_acc)\n",
        "    model_copy.save('model_X=4.h5')\n",
        "    saved_models[1] = 1\n",
        "  if (clean_data_acc - clean_acc >= 10 and not saved_models[2]):\n",
        "    print(\"The accuracy drops at least 10%, saved the model\", clean_acc)\n",
        "    model_copy.save('model_X=10.h5')\n",
        "    saved_models[2] = 1\n",
        "  if (clean_data_acc - clean_acc >= 25 and not saved_models[3]):\n",
        "    print(\"The accuracy drops at least 25%, saved the model\", clean_acc)\n",
        "    model_copy.save('model_X=25.h5')\n",
        "    saved_models[3] = 1\n",
        "\n",
        "  clean_acc_list.append(clean_acc)\n",
        "  bd_pred = np.argmax(model_copy.predict(bd_x_valid), axis=1)\n",
        "  success_rate = np.mean(np.equal(bd_pred, bd_y_valid)) * 100\n",
        "  success_rate_list.append(success_rate)\n",
        "  \n",
        "  print(\"The pruned channel index is: \", channel_index)\n",
        "  print(\"The clean accuracy is: \", clean_accuracy)\n",
        "  print(\"The attack success rate is: \", success_rate)\n",
        "  \n",
        "  keras.backend.clear_session()\n"
      ]
    },
    {
      "cell_type": "code",
      "execution_count": 15,
      "metadata": {
        "id": "gsEkpj5JRrXC"
      },
      "outputs": [
        {
          "name": "stdout",
          "output_type": "stream",
          "text": [
            "clean_accuracy:  [98.64899974019225, 98.64899974019225, 98.64899974019225, 98.64899974019225, 98.64899974019225, 98.64899974019225, 98.64899974019225, 98.64899974019225, 98.64899974019225, 98.64899974019225, 98.64899974019225, 98.64899974019225, 98.64899974019225, 98.64899974019225, 98.64899974019225, 98.64899974019225, 98.64899974019225, 98.64899974019225, 98.64899974019225, 98.64899974019225, 98.64899974019225, 98.64899974019225, 98.64899974019225, 98.64899974019225, 98.64899974019225, 98.64899974019225, 98.64899974019225, 98.64899974019225, 98.64899974019225, 98.64899974019225, 98.64899974019225, 98.64899974019225, 98.64899974019225, 98.64033948211657, 98.64033948211657, 98.63167922404088, 98.65765999826795, 98.64899974019225, 98.6056984498138, 98.57105741751104, 98.53641638520828, 98.19000606218066, 97.65307006148784, 97.50584567420108, 95.75647354291158, 95.20221702606739, 94.7172425738287, 92.09318437689443, 91.49562656967177, 91.01931237550879, 89.17467740538669, 84.43751623798389, 76.48739932449988, 54.8627349095003, 27.08928726076037, 13.87373343725643, 7.101411622066338, 1.5501861955486274, 0.7188014202823244, 0.0779423226812159]\n",
            "attack success rate:  [100.0, 100.0, 100.0, 100.0, 100.0, 100.0, 100.0, 100.0, 100.0, 100.0, 100.0, 100.0, 100.0, 100.0, 100.0, 100.0, 100.0, 100.0, 100.0, 100.0, 100.0, 100.0, 100.0, 100.0, 100.0, 100.0, 100.0, 100.0, 100.0, 100.0, 100.0, 100.0, 100.0, 100.0, 100.0, 100.0, 100.0, 100.0, 100.0, 100.0, 100.0, 100.0, 100.0, 100.0, 100.0, 99.9913397419243, 99.9913397419243, 99.9913397419243, 99.9913397419243, 99.98267948384861, 80.73958603966398, 77.015675067117, 35.71490430414826, 6.954187234779596, 0.4243526457088421, 0.0, 0.0, 0.0, 0.0, 0.0]\n"
          ]
        }
      ],
      "source": [
        "print(\"clean_accuracy: \", clean_acc_list)\n",
        "print(\"attack success rate: \", success_rate_list)"
      ]
    },
    {
      "cell_type": "code",
      "execution_count": 35,
      "metadata": {
        "id": "kFymHznzRrZO"
      },
      "outputs": [
        {
          "data": {
            "text/plain": [
              "Text(0.5, 1.0, 'accuracy and attack success rate for validation dataset')"
            ]
          },
          "execution_count": 35,
          "metadata": {},
          "output_type": "execute_result"
        },
        {
          "data": {
            "image/png": "[encoded data removed]",
            "text/plain": [
              "<Figure size 640x480 with 1 Axes>"
            ]
          },
          "metadata": {},
          "output_type": "display_data"
        }
      ],
      "source": [
        "x_axis = np.arange(1,61)/60\n",
        "plt.plot(x_axis, clean_acc_list)\n",
        "plt.plot(x_axis, success_rate_list)\n",
        "plt.yticks(np.arange(0, 105, step=5))\n",
        "plt.xlabel(\"fraction of pruned channels\")\n",
        "plt.ylabel(\"rate\")\n",
        "plt.legend(['clean accuracy','attack success rate'])\n",
        "plt.title(\"accuracy vs attack success rate for validation dataset\")"
      ]
    },
    {
      "cell_type": "markdown",
      "metadata": {
        "id": "isbyAtq1R5so"
      },
      "source": [
        "##Expected output model"
      ]
    },
    {
      "cell_type": "code",
      "execution_count": 17,
      "metadata": {
        "id": "-U9zc0onrVaT"
      },
      "outputs": [],
      "source": [
        "class G(keras.Model):\n",
        "  def __init__(self, M, M_new):\n",
        "      super(G, self).__init__()\n",
        "      self.M = M\n",
        "      self.M_new = M_new\n",
        "\n",
        "  def predict(self, data):\n",
        "      y = np.argmax(self.M(data), axis=1)\n",
        "      y_new = np.argmax(self.M_new(data), axis=1)\n",
        "      pred = np.zeros(data.shape[0])\n",
        "      for i in range(data.shape[0]):\n",
        "        if y[i] == y_new[i]:\n",
        "          pred[i] = y[i]\n",
        "        else:\n",
        "          pred[i] = 1284 # N + 1 when classification outputs differ\n",
        "      return pred"
      ]
    },
    {
      "cell_type": "code",
      "execution_count": 18,
      "metadata": {},
      "outputs": [],
      "source": [
        "# get test data\n",
        "cl_test_data = 'cl/test.h5'\n",
        "bd_test_data = 'bd/bd_test.h5'"
      ]
    },
    {
      "cell_type": "code",
      "execution_count": 19,
      "metadata": {
        "id": "MrhmOJkiR7OC"
      },
      "outputs": [
        {
          "name": "stdout",
          "output_type": "stream",
          "text": [
            "WARNING:tensorflow:No training configuration found in the save file, so the model was *not* compiled. Compile it manually.\n",
            "WARNING:tensorflow:No training configuration found in the save file, so the model was *not* compiled. Compile it manually.\n",
            "WARNING:tensorflow:No training configuration found in the save file, so the model was *not* compiled. Compile it manually.\n",
            "WARNING:tensorflow:No training configuration found in the save file, so the model was *not* compiled. Compile it manually.\n"
          ]
        }
      ],
      "source": [
        "# get the stored models\n",
        "file_model_X2 = 'model_X=2.h5'\n",
        "file_model_X4 = 'model_X=4.h5'\n",
        "file_model_X10 = 'model_X=10.h5'\n",
        "file_model_X25 = 'model_X=25.h5'\n",
        "\n",
        "model_X2 = keras.models.load_model(file_model_X2)\n",
        "model_X4 = keras.models.load_model(file_model_X4)\n",
        "model_X10 = keras.models.load_model(file_model_X10)\n",
        "model_X25 = keras.models.load_model(file_model_X25)"
      ]
    },
    {
      "cell_type": "code",
      "execution_count": 20,
      "metadata": {
        "id": "HSa0PSerSJLE"
      },
      "outputs": [],
      "source": [
        "x_test_cl, y_test_cl = data_loader(cl_test_data)\n",
        "x_test_bd, y_test_bd = data_loader(bd_test_data)"
      ]
    },
    {
      "cell_type": "code",
      "execution_count": 36,
      "metadata": {
        "id": "4-eW4huBSJNE"
      },
      "outputs": [
        {
          "name": "stdout",
          "output_type": "stream",
          "text": [
            "x_test_cl_data shape:  (12830, 55, 47, 3)\n",
            "x_test_bd_data data shape:  (12830, 55, 47, 3)\n"
          ]
        }
      ],
      "source": [
        "print(\"x_test_cl_data shape: \",x_test_cl.shape)\n",
        "print(\"x_test_bd_data data shape: \",x_test_bd.shape)"
      ]
    },
    {
      "cell_type": "code",
      "execution_count": 22,
      "metadata": {
        "id": "6RAOwYRJSOqz"
      },
      "outputs": [],
      "source": [
        "# combining the models\n",
        "G_model_X2 = G(bd_model, model_X2)\n",
        "G_model_X4 = G(bd_model, model_X4)\n",
        "G_model_X10 = G(bd_model, model_X10)\n",
        "G_model_X25 = G(bd_model, model_X25)"
      ]
    },
    {
      "cell_type": "markdown",
      "metadata": {
        "id": "Jw7SoFs-STNZ"
      },
      "source": [
        "#Evaluating on the test dataset"
      ]
    },
    {
      "cell_type": "code",
      "execution_count": 23,
      "metadata": {},
      "outputs": [
        {
          "name": "stdout",
          "output_type": "stream",
          "text": [
            "401/401 [==============================] - 2s 5ms/step\n",
            "Classification accuracy on the clean test data for 2% drops model: 95.90023382696803\n",
            "401/401 [==============================] - 3s 7ms/step\n",
            "Attack Success Rate for 2% drops model: 100.0\n"
          ]
        }
      ],
      "source": [
        "cl_2_pred = np.argmax(model_X2.predict(x_test_cl), axis=1)\n",
        "acc_2 = np.mean(np.equal(cl_2_pred, y_test_cl)) * 100\n",
        "print('Classification accuracy on the clean test data for 2% drops model:', acc_2)\n",
        "\n",
        "bd_2_pred = np.argmax(model_X2.predict(x_test_bd), axis=1)\n",
        "success_rate_2 = np.mean(np.equal(bd_2_pred, y_test_bd)) * 100\n",
        "print('Attack Success Rate for 2% drops model:', success_rate_2)"
      ]
    },
    {
      "cell_type": "code",
      "execution_count": 24,
      "metadata": {},
      "outputs": [
        {
          "name": "stdout",
          "output_type": "stream",
          "text": [
            "401/401 [==============================] - 3s 6ms/step\n",
            "Classification accuracy on the clean test data for 4% drops model: 92.29150428682775\n",
            "401/401 [==============================] - 2s 5ms/step\n",
            "Attack Success Rate for 4% drops model: 99.98441153546376\n"
          ]
        }
      ],
      "source": [
        "cl_4_pred = np.argmax(model_X4.predict(x_test_cl), axis=1)\n",
        "acc_4 = np.mean(np.equal(cl_4_pred, y_test_cl)) * 100\n",
        "print('Classification accuracy on the clean test data for 4% drops model:', acc_4)\n",
        "\n",
        "bd_4_pred = np.argmax(model_X4.predict(x_test_bd), axis=1)\n",
        "success_rate_4 = np.mean(np.equal(bd_4_pred, y_test_bd)) * 100\n",
        "print('Attack Success Rate for 4% drops model:', success_rate_4)"
      ]
    },
    {
      "cell_type": "code",
      "execution_count": 25,
      "metadata": {},
      "outputs": [
        {
          "name": "stdout",
          "output_type": "stream",
          "text": [
            "401/401 [==============================] - 2s 5ms/step\n",
            "Classification accuracy on the clean test data for 10% drops model: 84.54403741231489\n",
            "401/401 [==============================] - 2s 6ms/step\n",
            "Attack Success Rate for 10% drops model: 77.20966484801247\n"
          ]
        }
      ],
      "source": [
        "cl_10_pred = np.argmax(model_X10.predict(x_test_cl), axis=1)\n",
        "acc_10 = np.mean(np.equal(cl_10_pred, y_test_cl)) * 100\n",
        "print('Classification accuracy on the clean test data for 10% drops model:', acc_10)\n",
        "\n",
        "bd_10_pred = np.argmax(model_X10.predict(x_test_bd), axis=1)\n",
        "success_rate_10 = np.mean(np.equal(bd_10_pred, y_test_bd)) * 100\n",
        "print('Attack Success Rate for 10% drops model:', success_rate_10)"
      ]
    },
    {
      "cell_type": "code",
      "execution_count": 26,
      "metadata": {
        "id": "vRSEsMjXSOtH"
      },
      "outputs": [
        {
          "name": "stdout",
          "output_type": "stream",
          "text": [
            "401/401 [==============================] - 2s 6ms/step\n",
            "Classification accuracy on the clean test data for 25% drops model: 54.762275915822286\n",
            "401/401 [==============================] - 2s 6ms/step\n",
            "Attack Success Rate for 25% drops model: 6.96024941543258\n"
          ]
        }
      ],
      "source": [
        "cl_25_pred = np.argmax(model_X25.predict(x_test_cl), axis=1)\n",
        "acc_25 = np.mean(np.equal(cl_25_pred, y_test_cl)) * 100\n",
        "print('Classification accuracy on the clean test data for 25% drops model:', acc_25)\n",
        "\n",
        "bd_25_pred = np.argmax(model_X25.predict(x_test_bd), axis=1)\n",
        "success_rate_25 = np.mean(np.equal(bd_25_pred, y_test_bd)) * 100\n",
        "print('Attack Success Rate for 25% drops model:', success_rate_25)"
      ]
    },
    {
      "cell_type": "code",
      "execution_count": 27,
      "metadata": {
        "id": "5uKAtV_eSRg1"
      },
      "outputs": [
        {
          "data": {
            "text/html": [
              "<div>\n",
              "<style scoped>\n",
              "    .dataframe tbody tr th:only-of-type {\n",
              "        vertical-align: middle;\n",
              "    }\n",
              "\n",
              "    .dataframe tbody tr th {\n",
              "        vertical-align: top;\n",
              "    }\n",
              "\n",
              "    .dataframe thead th {\n",
              "        text-align: right;\n",
              "    }\n",
              "</style>\n",
              "<table border=\"1\" class=\"dataframe\">\n",
              "  <thead>\n",
              "    <tr style=\"text-align: right;\">\n",
              "      <th></th>\n",
              "      <th>text_acc</th>\n",
              "      <th>attack_rate</th>\n",
              "    </tr>\n",
              "    <tr>\n",
              "      <th>model</th>\n",
              "      <th></th>\n",
              "      <th></th>\n",
              "    </tr>\n",
              "  </thead>\n",
              "  <tbody>\n",
              "    <tr>\n",
              "      <th>2%_repaired</th>\n",
              "      <td>95.900234</td>\n",
              "      <td>100.000000</td>\n",
              "    </tr>\n",
              "    <tr>\n",
              "      <th>4%_repaired</th>\n",
              "      <td>92.291504</td>\n",
              "      <td>99.984412</td>\n",
              "    </tr>\n",
              "    <tr>\n",
              "      <th>10%_repaired</th>\n",
              "      <td>84.544037</td>\n",
              "      <td>77.209665</td>\n",
              "    </tr>\n",
              "    <tr>\n",
              "      <th>25%_repaired</th>\n",
              "      <td>54.762276</td>\n",
              "      <td>6.960249</td>\n",
              "    </tr>\n",
              "  </tbody>\n",
              "</table>\n",
              "</div>"
            ],
            "text/plain": [
              "               text_acc  attack_rate\n",
              "model                               \n",
              "2%_repaired   95.900234   100.000000\n",
              "4%_repaired   92.291504    99.984412\n",
              "10%_repaired  84.544037    77.209665\n",
              "25%_repaired  54.762276     6.960249"
            ]
          },
          "execution_count": 27,
          "metadata": {},
          "output_type": "execute_result"
        }
      ],
      "source": [
        "attack_success_rate = [success_rate_2, success_rate_4, success_rate_10, success_rate_25]\n",
        "test_acc = [acc_2, acc_4, acc_10, acc_25]\n",
        "\n",
        "data = {\n",
        "    \"text_acc\": test_acc,\n",
        "    \"model\": [\"2%_repaired\", \"4%_repaired\", \"10%_repaired\", \"25%_repaired\"],\n",
        "    \"attack_rate\": attack_success_rate,\n",
        "}\n",
        "\n",
        "df = pd.DataFrame(data)\n",
        "df.set_index('model')"
      ]
    },
    {
      "cell_type": "code",
      "execution_count": 28,
      "metadata": {
        "id": "wAT3dOXSSOv9"
      },
      "outputs": [
        {
          "data": {
            "image/png": "[encoded data removed]",
            "text/plain": [
              "<Figure size 640x480 with 1 Axes>"
            ]
          },
          "metadata": {},
          "output_type": "display_data"
        }
      ],
      "source": [
        "opacity = 0.6\n",
        "bar_width = 0.5\n",
        "\n",
        "bar1 = plt.bar(np.arange(len(test_acc)) + bar_width, test_acc, bar_width, align='center', alpha=opacity, color='green', label='accuracy')\n",
        "bar2 = plt.bar(range(len(attack_success_rate)), attack_success_rate, bar_width, align='center', alpha=opacity, color='blue', label='attack rate')\n",
        "\n",
        "# Add counts above the two bar graphs\n",
        "for rect in bar1 + bar2:\n",
        "    height = rect.get_height()\n",
        "    plt.text(rect.get_x() + rect.get_width() / 2.0, height, f'{height:.02f}', ha='center', va='bottom')\n",
        "\n",
        "plt.xlabel('% drops model')\n",
        "plt.ylabel('Rate')\n",
        "plt.xticks(range(len(test_acc)),('2%', '4%', '10%', '25%'))\n",
        "plt.legend(bbox_to_anchor=(1.4, 1))\n",
        "plt.title('performance of repaired model')\n",
        "sns.despine()\n",
        "plt.show()"
      ]
    },
    {
      "cell_type": "markdown",
      "metadata": {},
      "source": [
        "#Evaluating the combined models"
      ]
    },
    {
      "cell_type": "code",
      "execution_count": 29,
      "metadata": {},
      "outputs": [
        {
          "name": "stdout",
          "output_type": "stream",
          "text": [
            "Combined 2% drops model, the clean test data Classification accuracy: 95.74434918160561\n",
            "Combined 2% drops model, Attack Success Rate: 100.0\n"
          ]
        }
      ],
      "source": [
        "G_cl_2_pred = G_model_X2.predict(x_test_cl)\n",
        "G_acc_2 = np.mean(np.equal(G_cl_2_pred, y_test_cl))*100\n",
        "print('Combined 2% drops model, the clean test data Classification accuracy:', G_acc_2)\n",
        "\n",
        "G_bd_2_pred = G_model_X2.predict(x_test_bd)\n",
        "G_success_rate_2 = np.mean(np.equal(G_bd_2_pred, y_test_bd))*100\n",
        "print('Combined 2% drops model, Attack Success Rate:', G_success_rate_2)"
      ]
    },
    {
      "cell_type": "code",
      "execution_count": 30,
      "metadata": {},
      "outputs": [
        {
          "name": "stdout",
          "output_type": "stream",
          "text": [
            "Combined 4% drops model, the clean test data Classification accuracy: 92.1278254091972\n",
            "Combined 4% drops model, Attack Success Rate: 99.98441153546376\n"
          ]
        }
      ],
      "source": [
        "G_cl_4_pred = G_model_X4.predict(x_test_cl)\n",
        "G_acc_4 = np.mean(np.equal(G_cl_4_pred, y_test_cl))*100\n",
        "print('Combined 4% drops model, the clean test data Classification accuracy:', G_acc_4)\n",
        "\n",
        "G_bd_4_pred = G_model_X4.predict(x_test_bd)\n",
        "G_success_rate_4 = np.mean(np.equal(G_bd_4_pred, y_test_bd))*100\n",
        "print('Combined 4% drops model, Attack Success Rate:', G_success_rate_4)"
      ]
    },
    {
      "cell_type": "code",
      "execution_count": 31,
      "metadata": {},
      "outputs": [
        {
          "name": "stdout",
          "output_type": "stream",
          "text": [
            "Combined 10% drops model, the clean test data Classification accuracy: 84.3335931410756\n",
            "Combined 10% drops model, Attack Success Rate: 77.20966484801247\n"
          ]
        }
      ],
      "source": [
        "G_cl_10_pred = G_model_X10.predict(x_test_cl)\n",
        "G_acc_10 = np.mean(np.equal(G_cl_10_pred, y_test_cl))*100\n",
        "print('Combined 10% drops model, the clean test data Classification accuracy:', G_acc_10)\n",
        "\n",
        "G_bd_10_pred = G_model_X10.predict(x_test_bd)\n",
        "G_success_rate_10 = np.mean(np.equal(G_bd_10_pred, y_test_bd))*100\n",
        "print('Combined 10% drops model, Attack Success Rate:', G_success_rate_10)"
      ]
    },
    {
      "cell_type": "code",
      "execution_count": 32,
      "metadata": {},
      "outputs": [
        {
          "name": "stdout",
          "output_type": "stream",
          "text": [
            "Combined 25% drops model, the clean test data Classification accuracy: 54.67653936087296\n",
            "Combined 25% drops model, Attack Success Rate: 6.96024941543258\n"
          ]
        }
      ],
      "source": [
        "G_cl_25_pred = G_model_X25.predict(x_test_cl)\n",
        "G_acc_25 = np.mean(np.equal(G_cl_25_pred, y_test_cl))*100\n",
        "print('Combined 25% drops model, the clean test data Classification accuracy:', G_acc_25)\n",
        "\n",
        "G_bd_25_pred = G_model_X25.predict(x_test_bd)\n",
        "G_success_rate_25 = np.mean(np.equal(G_bd_25_pred, y_test_bd))*100\n",
        "print('Combined 25% drops model, Attack Success Rate:', G_success_rate_25)"
      ]
    },
    {
      "cell_type": "code",
      "execution_count": 33,
      "metadata": {
        "id": "j2249GcVSfln"
      },
      "outputs": [
        {
          "data": {
            "text/html": [
              "<div>\n",
              "<style scoped>\n",
              "    .dataframe tbody tr th:only-of-type {\n",
              "        vertical-align: middle;\n",
              "    }\n",
              "\n",
              "    .dataframe tbody tr th {\n",
              "        vertical-align: top;\n",
              "    }\n",
              "\n",
              "    .dataframe thead th {\n",
              "        text-align: right;\n",
              "    }\n",
              "</style>\n",
              "<table border=\"1\" class=\"dataframe\">\n",
              "  <thead>\n",
              "    <tr style=\"text-align: right;\">\n",
              "      <th></th>\n",
              "      <th>G_text_acc</th>\n",
              "      <th>G_attack_success_rate</th>\n",
              "    </tr>\n",
              "    <tr>\n",
              "      <th>G_model</th>\n",
              "      <th></th>\n",
              "      <th></th>\n",
              "    </tr>\n",
              "  </thead>\n",
              "  <tbody>\n",
              "    <tr>\n",
              "      <th>G_2%</th>\n",
              "      <td>95.744349</td>\n",
              "      <td>100.000000</td>\n",
              "    </tr>\n",
              "    <tr>\n",
              "      <th>G_4%</th>\n",
              "      <td>92.127825</td>\n",
              "      <td>99.984412</td>\n",
              "    </tr>\n",
              "    <tr>\n",
              "      <th>G_10%</th>\n",
              "      <td>84.333593</td>\n",
              "      <td>77.209665</td>\n",
              "    </tr>\n",
              "    <tr>\n",
              "      <th>G_25%</th>\n",
              "      <td>54.676539</td>\n",
              "      <td>6.960249</td>\n",
              "    </tr>\n",
              "  </tbody>\n",
              "</table>\n",
              "</div>"
            ],
            "text/plain": [
              "         G_text_acc  G_attack_success_rate\n",
              "G_model                                   \n",
              "G_2%      95.744349             100.000000\n",
              "G_4%      92.127825              99.984412\n",
              "G_10%     84.333593              77.209665\n",
              "G_25%     54.676539               6.960249"
            ]
          },
          "execution_count": 33,
          "metadata": {},
          "output_type": "execute_result"
        }
      ],
      "source": [
        "G_attack_success_rate = [G_success_rate_2, G_success_rate_4, G_success_rate_10, G_success_rate_25]\n",
        "G_acc = [G_acc_2, G_acc_4, G_acc_10, G_acc_25]\n",
        "\n",
        "G_print_data = {\n",
        "    \"G_text_acc\": G_acc,\n",
        "    \"G_model\": [\"G_2%\", \"G_4%\", \"G_10%\", \"G_25%\"],\n",
        "    \"G_attack_success_rate\": G_attack_success_rate,\n",
        "}\n",
        "\n",
        "G_df = pd.DataFrame(G_print_data)\n",
        "G_df.set_index('G_model')\n"
      ]
    },
    {
      "cell_type": "code",
      "execution_count": 34,
      "metadata": {
        "id": "ZOUKKLyTSiWI"
      },
      "outputs": [
        {
          "data": {
            "image/png": "[encoded data removed]",
            "text/plain": [
              "<Figure size 640x480 with 1 Axes>"
            ]
          },
          "metadata": {},
          "output_type": "display_data"
        }
      ],
      "source": [
        "opacity = 0.6\n",
        "bar_width = 0.5\n",
        "\n",
        "bar1 = plt.bar(np.arange(len(G_acc)) + bar_width, G_acc, bar_width, align='center', alpha=opacity, color='green', label='accuracy')\n",
        "bar2 = plt.bar(range(len(G_attack_success_rate)),G_attack_success_rate, bar_width, align='center', alpha=opacity, color='blue', label='attack rate')\n",
        "\n",
        "for rect in bar1 + bar2:\n",
        "    height = rect.get_height()\n",
        "    plt.text(rect.get_x() + rect.get_width() / 2.0, height, f'{height:.02f}', ha='center', va='bottom')\n",
        "\n",
        "plt.xlabel('combined % drops model')\n",
        "plt.ylabel('Rate')\n",
        "plt.xticks(range(len(G_acc)),('2%', '4%', '10%', '15%'))\n",
        "plt.legend(bbox_to_anchor=(1.4, 1))\n",
        "plt.title('performance of goodNet model')\n",
        "sns.despine()\n",
        "plt.show()"
      ]
    }
  ],
  "metadata": {
    "colab": {
      "gpuType": "T4",
      "provenance": []
    },
    "kernelspec": {
      "display_name": "Python 3",
      "name": "python3"
    },
    "language_info": {
      "codemirror_mode": {
        "name": "ipython",
        "version": 3
      },
      "file_extension": ".py",
      "mimetype": "text/x-python",
      "name": "python",
      "nbconvert_exporter": "python",
      "pygments_lexer": "ipython3",
      "version": "3.11.3"
    }
  },
  "nbformat": 4,
  "nbformat_minor": 0
}
