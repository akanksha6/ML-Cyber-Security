{
  "cells": [
    {
      "cell_type": "markdown",
      "metadata": {},
      "source": [
        "Name: Akanksha Dhote\n",
        "NetID: avd8874"
      ]
    },
    {
      "cell_type": "code",
      "execution_count": 102,
      "metadata": {},
      "outputs": [],
      "source": [
        "import matplotlib.pyplot as plt\n",
        "import pandas as pd\n",
        "import numpy as np\n",
        "import seaborn as sns\n",
        "from tensorflow import keras\n",
        "import sys\n",
        "import h5py\n",
        "import warnings\n",
        "from tqdm import tqdm"
      ]
    },
    {
      "cell_type": "code",
      "execution_count": 69,
      "metadata": {
        "id": "x272JSRsrVVZ"
      },
      "outputs": [],
      "source": [
        "warnings.filterwarnings(\"ignore\")"
      ]
    },
    {
      "cell_type": "markdown",
      "metadata": {
        "id": "oGcnCWagRWmj"
      },
      "source": [
        "#BadNets\n",
        "It shows the original badnet"
      ]
    },
    {
      "cell_type": "code",
      "execution_count": 70,
      "metadata": {
        "id": "Jd4KEEqErf8U"
      },
      "outputs": [],
      "source": [
        "cl_data_valid = 'cl/valid.h5'\n",
        "bd_data_valid = 'bd/bd_valid.h5'\n",
        "bd_net_model = 'bd_net.h5'"
      ]
    },
    {
      "cell_type": "code",
      "execution_count": 71,
      "metadata": {
        "id": "GXVTLKKOrf_I"
      },
      "outputs": [],
      "source": [
        "def data_loader(filepath):\n",
        "    data = h5py.File(filepath, 'r')\n",
        "    x_data = np.array(data['data'])\n",
        "    y_data = np.array(data['label'])\n",
        "    x_data = x_data.transpose((0,2,3,1))\n",
        "\n",
        "    return x_data, y_data"
      ]
    },
    {
      "cell_type": "code",
      "execution_count": 72,
      "metadata": {},
      "outputs": [],
      "source": [
        "bd_model = keras.models.load_model(bd_net_model)\n",
        "cl_x_valid, cl_y_valid = data_loader(cl_data_valid)\n",
        "bd_x_valid, bd_y_valid = data_loader(bd_data_valid)"
      ]
    },
    {
      "cell_type": "code",
      "execution_count": 73,
      "metadata": {},
      "outputs": [
        {
          "name": "stdout",
          "output_type": "stream",
          "text": [
            "361/361 [==============================] - 2s 5ms/step\n",
            "Clean Classification accuracy: 98.64899974019225\n",
            "361/361 [==============================] - 2s 5ms/step\n",
            "Attack Success Rate: 100.0\n"
          ]
        }
      ],
      "source": [
        "cl_label_p = np.argmax(bd_model.predict(cl_x_valid), axis=1)\n",
        "clean_accuracy = np.mean(np.equal(cl_label_p, cl_y_valid))*100\n",
        "print('Clean Classification accuracy:', clean_accuracy)\n",
        "\n",
        "bd_label_p = np.argmax(bd_model.predict(bd_x_valid), axis=1)\n",
        "success_rate = np.mean(np.equal(bd_label_p, bd_y_valid))*100\n",
        "print('Attack Success Rate:', success_rate)"
      ]
    },
    {
      "cell_type": "code",
      "execution_count": 74,
      "metadata": {
        "colab": {
          "base_uri": "https://localhost:8080/"
        },
        "id": "7p0UueLQsDnG",
        "outputId": "c63dc07f-a2a0-43d6-c386-6eb3ebc88d1d"
      },
      "outputs": [
        {
          "name": "stdout",
          "output_type": "stream",
          "text": [
            "Model: \"model_1\"\n",
            "__________________________________________________________________________________________________\n",
            " Layer (type)                Output Shape                 Param #   Connected to                  \n",
            "==================================================================================================\n",
            " input (InputLayer)          [(None, 55, 47, 3)]          0         []                            \n",
            "                                                                                                  \n",
            " conv_1 (Conv2D)             (None, 52, 44, 20)           980       ['input[0][0]']               \n",
            "                                                                                                  \n",
            " pool_1 (MaxPooling2D)       (None, 26, 22, 20)           0         ['conv_1[0][0]']              \n",
            "                                                                                                  \n",
            " conv_2 (Conv2D)             (None, 24, 20, 40)           7240      ['pool_1[0][0]']              \n",
            "                                                                                                  \n",
            " pool_2 (MaxPooling2D)       (None, 12, 10, 40)           0         ['conv_2[0][0]']              \n",
            "                                                                                                  \n",
            " conv_3 (Conv2D)             (None, 10, 8, 60)            21660     ['pool_2[0][0]']              \n",
            "                                                                                                  \n",
            " pool_3 (MaxPooling2D)       (None, 5, 4, 60)             0         ['conv_3[0][0]']              \n",
            "                                                                                                  \n",
            " conv_4 (Conv2D)             (None, 4, 3, 80)             19280     ['pool_3[0][0]']              \n",
            "                                                                                                  \n",
            " flatten_1 (Flatten)         (None, 1200)                 0         ['pool_3[0][0]']              \n",
            "                                                                                                  \n",
            " flatten_2 (Flatten)         (None, 960)                  0         ['conv_4[0][0]']              \n",
            "                                                                                                  \n",
            " fc_1 (Dense)                (None, 160)                  192160    ['flatten_1[0][0]']           \n",
            "                                                                                                  \n",
            " fc_2 (Dense)                (None, 160)                  153760    ['flatten_2[0][0]']           \n",
            "                                                                                                  \n",
            " add_1 (Add)                 (None, 160)                  0         ['fc_1[0][0]',                \n",
            "                                                                     'fc_2[0][0]']                \n",
            "                                                                                                  \n",
            " activation_1 (Activation)   (None, 160)                  0         ['add_1[0][0]']               \n",
            "                                                                                                  \n",
            " output (Dense)              (None, 1283)                 206563    ['activation_1[0][0]']        \n",
            "                                                                                                  \n",
            "==================================================================================================\n",
            "Total params: 601643 (2.30 MB)\n",
            "Trainable params: 601643 (2.30 MB)\n",
            "Non-trainable params: 0 (0.00 Byte)\n",
            "__________________________________________________________________________________________________\n",
            "None\n"
          ]
        }
      ],
      "source": [
        "print(bd_model.summary())"
      ]
    },
    {
      "cell_type": "code",
      "execution_count": 75,
      "metadata": {},
      "outputs": [
        {
          "name": "stdout",
          "output_type": "stream",
          "text": [
            "Number of output classes (N): 1283\n"
          ]
        }
      ],
      "source": [
        "output_classes = bd_model.layers[-1].output_shape[-1]\n",
        "print(\"Number of output classes (N):\", output_classes)"
      ]
    },
    {
      "cell_type": "code",
      "execution_count": 76,
      "metadata": {
        "id": "RXb7S9N7sDpX"
      },
      "outputs": [],
      "source": [
        "# get the data\n",
        "cl_x_valid, cl_y_valid = data_loader(cl_data_valid)\n",
        "bd_x_valid, bd_y_valid = data_loader(bd_data_valid)"
      ]
    },
    {
      "cell_type": "code",
      "execution_count": 77,
      "metadata": {
        "colab": {
          "base_uri": "https://localhost:8080/",
          "height": 675
        },
        "id": "K8-1GgP9Q6At",
        "outputId": "1ee9a501-29f2-4133-c6e6-9b38cf49eafd"
      },
      "outputs": [
        {
          "data": {
            "image/png": "[encoded data removed]",
            "text/plain": [
              "<Figure size 1000x800 with 9 Axes>"
            ]
          },
          "metadata": {},
          "output_type": "display_data"
        }
      ],
      "source": [
        "figure = plt.figure(figsize=(10,8))\n",
        "cols, rows = 3,3\n",
        "for i in range(1, cols*rows+1):\n",
        "  index = np.random.randint(cl_x_valid.shape[0], size=1)\n",
        "  img, label = (cl_x_valid[index], cl_y_valid[index])\n",
        "  figure.add_subplot(rows, cols, i)\n",
        "  plt.title(\"true label: {}\".format(label))\n",
        "  plt.axis(\"off\")\n",
        "  plt.imshow(img[0]/255)\n",
        "plt.show()"
      ]
    },
    {
      "cell_type": "code",
      "execution_count": 78,
      "metadata": {
        "colab": {
          "base_uri": "https://localhost:8080/",
          "height": 675
        },
        "id": "Kb5PUI1YRE1k",
        "outputId": "fb2aa25a-2f04-4830-e8fa-33873e353b34"
      },
      "outputs": [
        {
          "data": {
            "image/png": "[encoded data removed]",
            "text/plain": [
              "<Figure size 1000x800 with 9 Axes>"
            ]
          },
          "metadata": {},
          "output_type": "display_data"
        }
      ],
      "source": [
        "figure = plt.figure(figsize=(10,8))\n",
        "cols, rows = 3,3\n",
        "for i in range(1, cols*rows+1):\n",
        "  index = np.random.randint(bd_x_valid.shape[0], size=1)\n",
        "  img, label = (bd_x_valid[index], bd_y_valid[index])\n",
        "  figure.add_subplot(rows, cols, i)\n",
        "  plt.title(\"true label: {}\".format(label))\n",
        "  plt.axis(\"off\")\n",
        "  plt.imshow(img[0]/255)\n",
        "plt.show()"
      ]
    },
    {
      "cell_type": "code",
      "execution_count": 79,
      "metadata": {
        "id": "jb_TSQ82RLTZ"
      },
      "outputs": [],
      "source": [
        "# clearing the session\n",
        "keras.backend.clear_session()"
      ]
    },
    {
      "cell_type": "code",
      "execution_count": 80,
      "metadata": {},
      "outputs": [
        {
          "name": "stdout",
          "output_type": "stream",
          "text": [
            "361/361 [==============================] - 2s 5ms/step\n",
            "[0.0000000e+00 8.5787809e-01 0.0000000e+00 5.3079778e-01 5.1451392e+00\n",
            " 2.0289583e+00 6.2408661e-03 5.3690352e+00 2.1106055e+00 0.0000000e+00\n",
            " 4.1488924e+00 2.1980379e+00 0.0000000e+00 0.0000000e+00 0.0000000e+00\n",
            " 0.0000000e+00 1.5654891e+00 0.0000000e+00 5.0868411e+00 2.4381575e-01\n",
            " 1.8378231e-01 8.3539166e-02 4.3979678e-02 3.0290761e-03 0.0000000e+00\n",
            " 0.0000000e+00 0.0000000e+00 0.0000000e+00 4.8440871e+00 1.0589780e+00\n",
            " 0.0000000e+00 0.0000000e+00 1.5006668e-02 0.0000000e+00 0.0000000e+00\n",
            " 4.8648086e+00 0.0000000e+00 0.0000000e+00 0.0000000e+00 0.0000000e+00\n",
            " 0.0000000e+00 0.0000000e+00 5.7658589e-01 4.2763174e-01 0.0000000e+00\n",
            " 0.0000000e+00 1.8540378e+00 0.0000000e+00 0.0000000e+00 0.0000000e+00\n",
            " 0.0000000e+00 1.3321567e-02 6.2038708e+00 0.0000000e+00 3.6191158e+00\n",
            " 0.0000000e+00 1.6352932e+00 8.2229834e+00 5.0732869e-01 0.0000000e+00]\n",
            "[57 52  7  4 18 35 28 10 54 11  8  5 46 56 16 29  1 42  3 58 43 19 20 21\n",
            " 22 32 51  6 23 15 14 17 13 12  2  9 59 24 40 55 53 50 49 48 47 45 44 41\n",
            " 39 25 38 37 36 34 33 31 30 27 26  0]\n"
          ]
        }
      ],
      "source": [
        "clean_data_acc = clean_accuracy\n",
        "model_copy = keras.models.clone_model(bd_model)\n",
        "model_copy.set_weights(bd_model.get_weights())\n",
        "clean_acc = []\n",
        "asrate = []\n",
        "saved_model = np.zeros(4, dtype=bool)\n",
        "\n",
        "# activation extraction from the last pooling layer - pool_3\n",
        "layer_output = model_copy.get_layer('pool_3').output\n",
        "intermediate_model = keras.models.Model(inputs=model_copy.input, outputs=layer_output)\n",
        "intermediate_prediction = intermediate_model.predict(cl_x_valid)\n",
        "\n",
        "# sort channels by importance and get their indices\n",
        "temp = np.mean(intermediate_prediction, axis = (0, 1, 2))\n",
        "seq = np.argsort(temp)[::-1] # descending order of activation\n",
        "print(temp)\n",
        "print(seq)\n",
        "weight_0 = model_copy.layers[5].get_weights()[0]\n",
        "bias_0 = model_copy.layers[5].get_weights()[1]"
      ]
    },
    {
      "cell_type": "code",
      "execution_count": 81,
      "metadata": {
        "colab": {
          "base_uri": "https://localhost:8080/"
        },
        "id": "my4cSiEdQ6C8",
        "outputId": "ec0a290b-55cc-447d-c213-93e70abc55d3"
      },
      "outputs": [
        {
          "name": "stderr",
          "output_type": "stream",
          "text": [
            "  0%|          | 0/60 [00:00<?, ?it/s]"
          ]
        },
        {
          "name": "stdout",
          "output_type": "stream",
          "text": [
            "361/361 [==============================] - 2s 5ms/step\n",
            "The accuracy drops at least 2%, saved the model 94.29288992811986\n",
            "WARNING:tensorflow:Compiled the loaded model, but the compiled metrics have yet to be built. `model.compile_metrics` will be empty until you train or evaluate the model.\n",
            "The accuracy drops at least 4%, saved the model 94.29288992811986\n",
            "WARNING:tensorflow:Compiled the loaded model, but the compiled metrics have yet to be built. `model.compile_metrics` will be empty until you train or evaluate the model.\n",
            "361/361 [==============================] - 2s 5ms/step\n"
          ]
        },
        {
          "name": "stderr",
          "output_type": "stream",
          "text": [
            "  2%|▏         | 1/60 [00:05<05:50,  5.94s/it]"
          ]
        },
        {
          "name": "stdout",
          "output_type": "stream",
          "text": [
            "The clean accuracy is:  94.29288992811986\n",
            "The attack success rate is:  100.0\n",
            "The pruned channel index is:  57\n",
            "361/361 [==============================] - 2s 5ms/step\n",
            "The accuracy drops at least 10%, saved the model 74.1491296440634\n",
            "WARNING:tensorflow:Compiled the loaded model, but the compiled metrics have yet to be built. `model.compile_metrics` will be empty until you train or evaluate the model.\n",
            "361/361 [==============================] - 2s 6ms/step\n"
          ]
        },
        {
          "name": "stderr",
          "output_type": "stream",
          "text": [
            "  3%|▎         | 2/60 [00:11<05:43,  5.92s/it]"
          ]
        },
        {
          "name": "stdout",
          "output_type": "stream",
          "text": [
            "The clean accuracy is:  74.1491296440634\n",
            "The attack success rate is:  100.0\n",
            "The pruned channel index is:  52\n",
            "361/361 [==============================] - 2s 5ms/step\n",
            "The accuracy drops at least 25%, saved the model 63.80012124361306\n",
            "WARNING:tensorflow:Compiled the loaded model, but the compiled metrics have yet to be built. `model.compile_metrics` will be empty until you train or evaluate the model.\n",
            "361/361 [==============================] - 2s 5ms/step\n"
          ]
        },
        {
          "name": "stderr",
          "output_type": "stream",
          "text": [
            "  5%|▌         | 3/60 [00:17<05:26,  5.72s/it]"
          ]
        },
        {
          "name": "stdout",
          "output_type": "stream",
          "text": [
            "The clean accuracy is:  63.80012124361306\n",
            "The attack success rate is:  99.98267948384861\n",
            "The pruned channel index is:  7\n",
            "361/361 [==============================] - 2s 5ms/step\n",
            "361/361 [==============================] - 2s 5ms/step\n"
          ]
        },
        {
          "name": "stderr",
          "output_type": "stream",
          "text": [
            "  7%|▋         | 4/60 [00:22<05:17,  5.67s/it]"
          ]
        },
        {
          "name": "stdout",
          "output_type": "stream",
          "text": [
            "The clean accuracy is:  47.22438728674114\n",
            "The attack success rate is:  99.98267948384861\n",
            "The pruned channel index is:  4\n",
            "361/361 [==============================] - 2s 5ms/step\n",
            "361/361 [==============================] - 2s 5ms/step\n"
          ]
        },
        {
          "name": "stderr",
          "output_type": "stream",
          "text": [
            "  8%|▊         | 5/60 [00:28<05:02,  5.50s/it]"
          ]
        },
        {
          "name": "stdout",
          "output_type": "stream",
          "text": [
            "The clean accuracy is:  44.04607257296267\n",
            "The attack success rate is:  99.97401922577292\n",
            "The pruned channel index is:  18\n",
            "361/361 [==============================] - 2s 5ms/step\n",
            "361/361 [==============================] - 2s 5ms/step\n"
          ]
        },
        {
          "name": "stderr",
          "output_type": "stream",
          "text": [
            " 10%|█         | 6/60 [00:32<04:44,  5.27s/it]"
          ]
        },
        {
          "name": "stdout",
          "output_type": "stream",
          "text": [
            "The clean accuracy is:  34.93548107733611\n",
            "The attack success rate is:  100.0\n",
            "The pruned channel index is:  35\n",
            "361/361 [==============================] - 2s 5ms/step\n",
            "361/361 [==============================] - 2s 5ms/step\n"
          ]
        },
        {
          "name": "stderr",
          "output_type": "stream",
          "text": [
            " 12%|█▏        | 7/60 [00:38<04:41,  5.32s/it]"
          ]
        },
        {
          "name": "stdout",
          "output_type": "stream",
          "text": [
            "The clean accuracy is:  33.34199359140902\n",
            "The attack success rate is:  100.0\n",
            "The pruned channel index is:  28\n",
            "361/361 [==============================] - 2s 5ms/step\n",
            "361/361 [==============================] - 2s 5ms/step\n"
          ]
        },
        {
          "name": "stderr",
          "output_type": "stream",
          "text": [
            " 13%|█▎        | 8/60 [00:43<04:30,  5.21s/it]"
          ]
        },
        {
          "name": "stdout",
          "output_type": "stream",
          "text": [
            "The clean accuracy is:  23.90231228890621\n",
            "The attack success rate is:  100.0\n",
            "The pruned channel index is:  10\n",
            "361/361 [==============================] - 2s 5ms/step\n",
            "361/361 [==============================] - 2s 5ms/step\n"
          ]
        },
        {
          "name": "stderr",
          "output_type": "stream",
          "text": [
            " 15%|█▌        | 9/60 [00:47<04:12,  4.94s/it]"
          ]
        },
        {
          "name": "stdout",
          "output_type": "stream",
          "text": [
            "The clean accuracy is:  15.380618342426605\n",
            "The attack success rate is:  100.0\n",
            "The pruned channel index is:  54\n",
            "361/361 [==============================] - 2s 5ms/step\n",
            "361/361 [==============================] - 2s 5ms/step\n"
          ]
        },
        {
          "name": "stderr",
          "output_type": "stream",
          "text": [
            " 17%|█▋        | 10/60 [00:52<04:10,  5.01s/it]"
          ]
        },
        {
          "name": "stdout",
          "output_type": "stream",
          "text": [
            "The clean accuracy is:  11.769290724863602\n",
            "The attack success rate is:  92.9678704425392\n",
            "The pruned channel index is:  11\n",
            "361/361 [==============================] - 2s 5ms/step\n",
            "361/361 [==============================] - 2s 5ms/step\n"
          ]
        },
        {
          "name": "stderr",
          "output_type": "stream",
          "text": [
            " 18%|█▊        | 11/60 [00:57<04:04,  4.99s/it]"
          ]
        },
        {
          "name": "stdout",
          "output_type": "stream",
          "text": [
            "The clean accuracy is:  7.283277041655841\n",
            "The attack success rate is:  72.91937299731532\n",
            "The pruned channel index is:  8\n",
            "361/361 [==============================] - 2s 5ms/step\n",
            "361/361 [==============================] - 2s 5ms/step\n"
          ]
        },
        {
          "name": "stderr",
          "output_type": "stream",
          "text": [
            " 20%|██        | 12/60 [01:02<03:52,  4.84s/it]"
          ]
        },
        {
          "name": "stdout",
          "output_type": "stream",
          "text": [
            "The clean accuracy is:  5.845674201091192\n",
            "The attack success rate is:  86.00502294968389\n",
            "The pruned channel index is:  5\n",
            "361/361 [==============================] - 2s 5ms/step\n",
            "361/361 [==============================] - 2s 5ms/step\n"
          ]
        },
        {
          "name": "stderr",
          "output_type": "stream",
          "text": [
            " 22%|██▏       | 13/60 [01:07<03:54,  4.98s/it]"
          ]
        },
        {
          "name": "stdout",
          "output_type": "stream",
          "text": [
            "The clean accuracy is:  3.4381224560491903\n",
            "The attack success rate is:  92.41361392569499\n",
            "The pruned channel index is:  46\n",
            "361/361 [==============================] - 2s 5ms/step\n",
            "361/361 [==============================] - 2s 5ms/step\n"
          ]
        },
        {
          "name": "stderr",
          "output_type": "stream",
          "text": [
            " 23%|██▎       | 14/60 [01:12<03:49,  4.99s/it]"
          ]
        },
        {
          "name": "stdout",
          "output_type": "stream",
          "text": [
            "The clean accuracy is:  2.736641551918247\n",
            "The attack success rate is:  92.32701134493809\n",
            "The pruned channel index is:  56\n",
            "361/361 [==============================] - 2s 5ms/step\n",
            "361/361 [==============================] - 2s 5ms/step\n"
          ]
        },
        {
          "name": "stderr",
          "output_type": "stream",
          "text": [
            " 25%|██▌       | 15/60 [01:17<03:36,  4.81s/it]"
          ]
        },
        {
          "name": "stdout",
          "output_type": "stream",
          "text": [
            "The clean accuracy is:  2.6327184550099596\n",
            "The attack success rate is:  0.19918593574088506\n",
            "The pruned channel index is:  16\n",
            "361/361 [==============================] - 2s 5ms/step\n",
            "361/361 [==============================] - 2s 5ms/step\n"
          ]
        },
        {
          "name": "stderr",
          "output_type": "stream",
          "text": [
            " 27%|██▋       | 16/60 [01:22<03:38,  4.96s/it]"
          ]
        },
        {
          "name": "stdout",
          "output_type": "stream",
          "text": [
            "The clean accuracy is:  1.732051615138131\n",
            "The attack success rate is:  0.23382696804364772\n",
            "The pruned channel index is:  29\n",
            "361/361 [==============================] - 2s 5ms/step\n",
            "361/361 [==============================] - 2s 5ms/step\n"
          ]
        },
        {
          "name": "stderr",
          "output_type": "stream",
          "text": [
            " 28%|██▊       | 17/60 [01:27<03:35,  5.01s/it]"
          ]
        },
        {
          "name": "stdout",
          "output_type": "stream",
          "text": [
            "The clean accuracy is:  1.3943015501861955\n",
            "The attack success rate is:  0.32908980687624495\n",
            "The pruned channel index is:  1\n",
            "361/361 [==============================] - 2s 5ms/step\n",
            "361/361 [==============================] - 2s 5ms/step\n"
          ]
        },
        {
          "name": "stderr",
          "output_type": "stream",
          "text": [
            " 30%|███       | 18/60 [01:32<03:24,  4.88s/it]"
          ]
        },
        {
          "name": "stdout",
          "output_type": "stream",
          "text": [
            "The clean accuracy is:  0.9093270979475189\n",
            "The attack success rate is:  0.32908980687624495\n",
            "The pruned channel index is:  42\n",
            "361/361 [==============================] - 2s 5ms/step\n",
            "361/361 [==============================] - 2s 5ms/step\n"
          ]
        },
        {
          "name": "stderr",
          "output_type": "stream",
          "text": [
            " 32%|███▏      | 19/60 [01:37<03:26,  5.04s/it]"
          ]
        },
        {
          "name": "stdout",
          "output_type": "stream",
          "text": [
            "The clean accuracy is:  0.7621027106607777\n",
            "The attack success rate is:  0.0\n",
            "The pruned channel index is:  3\n",
            "361/361 [==============================] - 2s 6ms/step\n",
            "361/361 [==============================] - 2s 5ms/step\n",
            "The clean accuracy is:  0.6495193556767992\n",
            "The attack success rate is:  0.01732051615138131\n",
            "The pruned channel index is:  58\n"
          ]
        },
        {
          "name": "stderr",
          "output_type": "stream",
          "text": [
            " 33%|███▎      | 20/60 [01:43<03:28,  5.20s/it]"
          ]
        },
        {
          "name": "stdout",
          "output_type": "stream",
          "text": [
            "361/361 [==============================] - 2s 6ms/step\n",
            "361/361 [==============================] - 2s 5ms/step\n"
          ]
        },
        {
          "name": "stderr",
          "output_type": "stream",
          "text": [
            " 35%|███▌      | 21/60 [01:48<03:20,  5.15s/it]"
          ]
        },
        {
          "name": "stdout",
          "output_type": "stream",
          "text": [
            "The clean accuracy is:  0.4330129037845328\n",
            "The attack success rate is:  0.03464103230276262\n",
            "The pruned channel index is:  43\n",
            "361/361 [==============================] - 2s 5ms/step\n",
            "361/361 [==============================] - 2s 5ms/step\n"
          ]
        },
        {
          "name": "stderr",
          "output_type": "stream",
          "text": [
            " 37%|███▋      | 22/60 [01:53<03:18,  5.22s/it]"
          ]
        },
        {
          "name": "stdout",
          "output_type": "stream",
          "text": [
            "The clean accuracy is:  0.2944487745734823\n",
            "The attack success rate is:  0.01732051615138131\n",
            "The pruned channel index is:  19\n",
            "361/361 [==============================] - 2s 6ms/step\n",
            "361/361 [==============================] - 2s 6ms/step\n"
          ]
        },
        {
          "name": "stderr",
          "output_type": "stream",
          "text": [
            " 38%|███▊      | 23/60 [01:58<03:15,  5.29s/it]"
          ]
        },
        {
          "name": "stdout",
          "output_type": "stream",
          "text": [
            "The clean accuracy is:  0.14722438728674114\n",
            "The attack success rate is:  0.0\n",
            "The pruned channel index is:  20\n",
            "361/361 [==============================] - 2s 6ms/step\n",
            "361/361 [==============================] - 2s 5ms/step\n"
          ]
        },
        {
          "name": "stderr",
          "output_type": "stream",
          "text": [
            " 40%|████      | 24/60 [02:03<03:04,  5.13s/it]"
          ]
        },
        {
          "name": "stdout",
          "output_type": "stream",
          "text": [
            "The clean accuracy is:  0.16454490343812248\n",
            "The attack success rate is:  0.0\n",
            "The pruned channel index is:  21\n",
            "361/361 [==============================] - 2s 5ms/step\n",
            "361/361 [==============================] - 2s 5ms/step\n"
          ]
        },
        {
          "name": "stderr",
          "output_type": "stream",
          "text": [
            " 42%|████▏     | 25/60 [02:09<03:03,  5.25s/it]"
          ]
        },
        {
          "name": "stdout",
          "output_type": "stream",
          "text": [
            "The clean accuracy is:  0.14722438728674114\n",
            "The attack success rate is:  0.0\n",
            "The pruned channel index is:  22\n",
            "361/361 [==============================] - 2s 6ms/step\n",
            "361/361 [==============================] - 2s 5ms/step\n"
          ]
        },
        {
          "name": "stderr",
          "output_type": "stream",
          "text": [
            " 43%|████▎     | 26/60 [02:14<02:59,  5.28s/it]"
          ]
        },
        {
          "name": "stdout",
          "output_type": "stream",
          "text": [
            "The clean accuracy is:  0.18186541958950378\n",
            "The attack success rate is:  0.0\n",
            "The pruned channel index is:  32\n",
            "361/361 [==============================] - 2s 6ms/step\n",
            "361/361 [==============================] - 2s 5ms/step\n"
          ]
        },
        {
          "name": "stderr",
          "output_type": "stream",
          "text": [
            " 45%|████▌     | 27/60 [02:19<02:51,  5.18s/it]"
          ]
        },
        {
          "name": "stdout",
          "output_type": "stream",
          "text": [
            "The clean accuracy is:  0.1732051615138131\n",
            "The attack success rate is:  0.0\n",
            "The pruned channel index is:  51\n",
            "361/361 [==============================] - 2s 5ms/step\n",
            "361/361 [==============================] - 2s 5ms/step\n"
          ]
        },
        {
          "name": "stderr",
          "output_type": "stream",
          "text": [
            " 47%|████▋     | 28/60 [02:24<02:48,  5.28s/it]"
          ]
        },
        {
          "name": "stdout",
          "output_type": "stream",
          "text": [
            "The clean accuracy is:  0.0779423226812159\n",
            "The attack success rate is:  0.0\n",
            "The pruned channel index is:  6\n",
            "361/361 [==============================] - 2s 6ms/step\n",
            "361/361 [==============================] - 2s 6ms/step\n"
          ]
        },
        {
          "name": "stderr",
          "output_type": "stream",
          "text": [
            " 48%|████▊     | 29/60 [02:30<02:45,  5.34s/it]"
          ]
        },
        {
          "name": "stdout",
          "output_type": "stream",
          "text": [
            "The clean accuracy is:  0.0779423226812159\n",
            "The attack success rate is:  0.0\n",
            "The pruned channel index is:  23\n",
            "361/361 [==============================] - 2s 6ms/step\n",
            "361/361 [==============================] - 2s 6ms/step\n"
          ]
        },
        {
          "name": "stderr",
          "output_type": "stream",
          "text": [
            " 50%|█████     | 30/60 [02:36<02:45,  5.51s/it]"
          ]
        },
        {
          "name": "stdout",
          "output_type": "stream",
          "text": [
            "The clean accuracy is:  0.0779423226812159\n",
            "The attack success rate is:  0.0\n",
            "The pruned channel index is:  15\n",
            "361/361 [==============================] - 2s 6ms/step\n",
            "361/361 [==============================] - 2s 5ms/step\n"
          ]
        },
        {
          "name": "stderr",
          "output_type": "stream",
          "text": [
            " 52%|█████▏    | 31/60 [02:42<02:43,  5.65s/it]"
          ]
        },
        {
          "name": "stdout",
          "output_type": "stream",
          "text": [
            "The clean accuracy is:  0.0779423226812159\n",
            "The attack success rate is:  0.0\n",
            "The pruned channel index is:  14\n",
            "361/361 [==============================] - 2s 6ms/step\n",
            "361/361 [==============================] - 2s 6ms/step\n"
          ]
        },
        {
          "name": "stderr",
          "output_type": "stream",
          "text": [
            " 53%|█████▎    | 32/60 [02:47<02:36,  5.60s/it]"
          ]
        },
        {
          "name": "stdout",
          "output_type": "stream",
          "text": [
            "The clean accuracy is:  0.0779423226812159\n",
            "The attack success rate is:  0.0\n",
            "The pruned channel index is:  17\n",
            "361/361 [==============================] - 2s 5ms/step\n",
            "361/361 [==============================] - 2s 6ms/step\n"
          ]
        },
        {
          "name": "stderr",
          "output_type": "stream",
          "text": [
            " 55%|█████▌    | 33/60 [02:52<02:27,  5.46s/it]"
          ]
        },
        {
          "name": "stdout",
          "output_type": "stream",
          "text": [
            "The clean accuracy is:  0.0779423226812159\n",
            "The attack success rate is:  0.0\n",
            "The pruned channel index is:  13\n",
            "361/361 [==============================] - 2s 6ms/step\n",
            "361/361 [==============================] - 3s 7ms/step\n"
          ]
        },
        {
          "name": "stderr",
          "output_type": "stream",
          "text": [
            " 57%|█████▋    | 34/60 [02:59<02:33,  5.92s/it]"
          ]
        },
        {
          "name": "stdout",
          "output_type": "stream",
          "text": [
            "The clean accuracy is:  0.0779423226812159\n",
            "The attack success rate is:  0.0\n",
            "The pruned channel index is:  12\n",
            "361/361 [==============================] - 2s 7ms/step\n",
            "361/361 [==============================] - 2s 7ms/step\n"
          ]
        },
        {
          "name": "stderr",
          "output_type": "stream",
          "text": [
            " 58%|█████▊    | 35/60 [03:06<02:31,  6.06s/it]"
          ]
        },
        {
          "name": "stdout",
          "output_type": "stream",
          "text": [
            "The clean accuracy is:  0.0779423226812159\n",
            "The attack success rate is:  0.0\n",
            "The pruned channel index is:  2\n",
            "361/361 [==============================] - 2s 6ms/step\n",
            "361/361 [==============================] - 2s 6ms/step\n"
          ]
        },
        {
          "name": "stderr",
          "output_type": "stream",
          "text": [
            " 60%|██████    | 36/60 [03:11<02:20,  5.86s/it]"
          ]
        },
        {
          "name": "stdout",
          "output_type": "stream",
          "text": [
            "The clean accuracy is:  0.0779423226812159\n",
            "The attack success rate is:  0.0\n",
            "The pruned channel index is:  9\n",
            "361/361 [==============================] - 2s 6ms/step\n",
            "361/361 [==============================] - 3s 7ms/step\n"
          ]
        },
        {
          "name": "stderr",
          "output_type": "stream",
          "text": [
            " 62%|██████▏   | 37/60 [03:18<02:18,  6.02s/it]"
          ]
        },
        {
          "name": "stdout",
          "output_type": "stream",
          "text": [
            "The clean accuracy is:  0.0779423226812159\n",
            "The attack success rate is:  0.0\n",
            "The pruned channel index is:  59\n",
            "361/361 [==============================] - 3s 7ms/step\n",
            "361/361 [==============================] - 2s 6ms/step\n"
          ]
        },
        {
          "name": "stderr",
          "output_type": "stream",
          "text": [
            " 63%|██████▎   | 38/60 [03:24<02:14,  6.13s/it]"
          ]
        },
        {
          "name": "stdout",
          "output_type": "stream",
          "text": [
            "The clean accuracy is:  0.0779423226812159\n",
            "The attack success rate is:  0.0\n",
            "The pruned channel index is:  24\n",
            "361/361 [==============================] - 3s 7ms/step\n",
            "361/361 [==============================] - 2s 6ms/step\n",
            "The clean accuracy is:  0.0779423226812159\n",
            "The attack success rate is:  0.0\n",
            "The pruned channel index is:  40\n"
          ]
        },
        {
          "name": "stderr",
          "output_type": "stream",
          "text": [
            " 65%|██████▌   | 39/60 [03:30<02:09,  6.15s/it]"
          ]
        },
        {
          "name": "stdout",
          "output_type": "stream",
          "text": [
            "361/361 [==============================] - 2s 6ms/step\n",
            "361/361 [==============================] - 2s 6ms/step\n"
          ]
        },
        {
          "name": "stderr",
          "output_type": "stream",
          "text": [
            " 67%|██████▋   | 40/60 [03:37<02:03,  6.20s/it]"
          ]
        },
        {
          "name": "stdout",
          "output_type": "stream",
          "text": [
            "The clean accuracy is:  0.0779423226812159\n",
            "The attack success rate is:  0.0\n",
            "The pruned channel index is:  55\n",
            "361/361 [==============================] - 2s 6ms/step\n",
            "361/361 [==============================] - 2s 6ms/step\n"
          ]
        },
        {
          "name": "stderr",
          "output_type": "stream",
          "text": [
            " 68%|██████▊   | 41/60 [03:42<01:54,  6.05s/it]"
          ]
        },
        {
          "name": "stdout",
          "output_type": "stream",
          "text": [
            "The clean accuracy is:  0.0779423226812159\n",
            "The attack success rate is:  0.0\n",
            "The pruned channel index is:  53\n",
            "361/361 [==============================] - 2s 6ms/step\n",
            "361/361 [==============================] - 2s 6ms/step\n"
          ]
        },
        {
          "name": "stderr",
          "output_type": "stream",
          "text": [
            " 70%|███████   | 42/60 [03:47<01:42,  5.72s/it]"
          ]
        },
        {
          "name": "stdout",
          "output_type": "stream",
          "text": [
            "The clean accuracy is:  0.0779423226812159\n",
            "The attack success rate is:  0.0\n",
            "The pruned channel index is:  50\n",
            "361/361 [==============================] - 2s 6ms/step\n",
            "361/361 [==============================] - 2s 6ms/step\n",
            "The clean accuracy is:  0.0779423226812159\n",
            "The attack success rate is:  0.0\n",
            "The pruned channel index is:  49\n"
          ]
        },
        {
          "name": "stderr",
          "output_type": "stream",
          "text": [
            " 72%|███████▏  | 43/60 [03:53<01:36,  5.70s/it]"
          ]
        },
        {
          "name": "stdout",
          "output_type": "stream",
          "text": [
            "361/361 [==============================] - 2s 6ms/step\n",
            "361/361 [==============================] - 2s 6ms/step\n"
          ]
        },
        {
          "name": "stderr",
          "output_type": "stream",
          "text": [
            " 73%|███████▎  | 44/60 [03:58<01:30,  5.67s/it]"
          ]
        },
        {
          "name": "stdout",
          "output_type": "stream",
          "text": [
            "The clean accuracy is:  0.0779423226812159\n",
            "The attack success rate is:  0.0\n",
            "The pruned channel index is:  48\n",
            "361/361 [==============================] - 2s 6ms/step\n",
            "361/361 [==============================] - 2s 6ms/step\n"
          ]
        },
        {
          "name": "stderr",
          "output_type": "stream",
          "text": [
            " 75%|███████▌  | 45/60 [04:03<01:21,  5.46s/it]"
          ]
        },
        {
          "name": "stdout",
          "output_type": "stream",
          "text": [
            "The clean accuracy is:  0.0779423226812159\n",
            "The attack success rate is:  0.0\n",
            "The pruned channel index is:  47\n",
            "361/361 [==============================] - 2s 6ms/step\n",
            "361/361 [==============================] - 2s 6ms/step\n"
          ]
        },
        {
          "name": "stderr",
          "output_type": "stream",
          "text": [
            " 77%|███████▋  | 46/60 [04:09<01:18,  5.61s/it]"
          ]
        },
        {
          "name": "stdout",
          "output_type": "stream",
          "text": [
            "The clean accuracy is:  0.0779423226812159\n",
            "The attack success rate is:  0.0\n",
            "The pruned channel index is:  45\n",
            "361/361 [==============================] - 2s 6ms/step\n",
            "361/361 [==============================] - 2s 6ms/step\n",
            "The clean accuracy is:  0.0779423226812159\n",
            "The attack success rate is:  0.0\n",
            "The pruned channel index is:  44\n"
          ]
        },
        {
          "name": "stderr",
          "output_type": "stream",
          "text": [
            " 78%|███████▊  | 47/60 [04:15<01:12,  5.58s/it]"
          ]
        },
        {
          "name": "stdout",
          "output_type": "stream",
          "text": [
            "361/361 [==============================] - 2s 6ms/step\n",
            "361/361 [==============================] - 2s 6ms/step\n",
            "The clean accuracy is:  0.0779423226812159\n",
            "The attack success rate is:  0.0\n",
            "The pruned channel index is:  41\n"
          ]
        },
        {
          "name": "stderr",
          "output_type": "stream",
          "text": [
            " 80%|████████  | 48/60 [04:20<01:04,  5.40s/it]"
          ]
        },
        {
          "name": "stdout",
          "output_type": "stream",
          "text": [
            "361/361 [==============================] - 2s 6ms/step\n",
            "361/361 [==============================] - 2s 6ms/step\n"
          ]
        },
        {
          "name": "stderr",
          "output_type": "stream",
          "text": [
            " 82%|████████▏ | 49/60 [04:26<01:01,  5.58s/it]"
          ]
        },
        {
          "name": "stdout",
          "output_type": "stream",
          "text": [
            "The clean accuracy is:  0.0779423226812159\n",
            "The attack success rate is:  0.0\n",
            "The pruned channel index is:  39\n",
            "361/361 [==============================] - 2s 6ms/step\n",
            "361/361 [==============================] - 2s 6ms/step\n"
          ]
        },
        {
          "name": "stderr",
          "output_type": "stream",
          "text": [
            " 83%|████████▎ | 50/60 [04:32<00:56,  5.60s/it]"
          ]
        },
        {
          "name": "stdout",
          "output_type": "stream",
          "text": [
            "The clean accuracy is:  0.0779423226812159\n",
            "The attack success rate is:  0.0\n",
            "The pruned channel index is:  25\n",
            "361/361 [==============================] - 2s 6ms/step\n",
            "361/361 [==============================] - 2s 6ms/step\n"
          ]
        },
        {
          "name": "stderr",
          "output_type": "stream",
          "text": [
            " 85%|████████▌ | 51/60 [04:37<00:49,  5.45s/it]"
          ]
        },
        {
          "name": "stdout",
          "output_type": "stream",
          "text": [
            "The clean accuracy is:  0.0779423226812159\n",
            "The attack success rate is:  0.0\n",
            "The pruned channel index is:  38\n",
            "361/361 [==============================] - 2s 6ms/step\n",
            "361/361 [==============================] - 2s 6ms/step\n"
          ]
        },
        {
          "name": "stderr",
          "output_type": "stream",
          "text": [
            " 87%|████████▋ | 52/60 [04:42<00:44,  5.57s/it]"
          ]
        },
        {
          "name": "stdout",
          "output_type": "stream",
          "text": [
            "The clean accuracy is:  0.0779423226812159\n",
            "The attack success rate is:  0.0\n",
            "The pruned channel index is:  37\n",
            "361/361 [==============================] - 2s 6ms/step\n",
            "361/361 [==============================] - 2s 6ms/step\n"
          ]
        },
        {
          "name": "stderr",
          "output_type": "stream",
          "text": [
            " 88%|████████▊ | 53/60 [04:48<00:39,  5.58s/it]"
          ]
        },
        {
          "name": "stdout",
          "output_type": "stream",
          "text": [
            "The clean accuracy is:  0.0779423226812159\n",
            "The attack success rate is:  0.0\n",
            "The pruned channel index is:  36\n",
            "361/361 [==============================] - 2s 6ms/step\n",
            "361/361 [==============================] - 2s 6ms/step\n"
          ]
        },
        {
          "name": "stderr",
          "output_type": "stream",
          "text": [
            " 90%|█████████ | 54/60 [04:53<00:32,  5.43s/it]"
          ]
        },
        {
          "name": "stdout",
          "output_type": "stream",
          "text": [
            "The clean accuracy is:  0.0779423226812159\n",
            "The attack success rate is:  0.0\n",
            "The pruned channel index is:  34\n",
            "361/361 [==============================] - 2s 6ms/step\n",
            "361/361 [==============================] - 2s 6ms/step\n"
          ]
        },
        {
          "name": "stderr",
          "output_type": "stream",
          "text": [
            " 92%|█████████▏| 55/60 [04:59<00:28,  5.65s/it]"
          ]
        },
        {
          "name": "stdout",
          "output_type": "stream",
          "text": [
            "The clean accuracy is:  0.0779423226812159\n",
            "The attack success rate is:  0.0\n",
            "The pruned channel index is:  33\n",
            "361/361 [==============================] - 2s 6ms/step\n",
            "361/361 [==============================] - 2s 6ms/step\n"
          ]
        },
        {
          "name": "stderr",
          "output_type": "stream",
          "text": [
            " 93%|█████████▎| 56/60 [05:05<00:22,  5.70s/it]"
          ]
        },
        {
          "name": "stdout",
          "output_type": "stream",
          "text": [
            "The clean accuracy is:  0.0779423226812159\n",
            "The attack success rate is:  0.0\n",
            "The pruned channel index is:  31\n",
            "361/361 [==============================] - 2s 6ms/step\n",
            "361/361 [==============================] - 2s 6ms/step\n"
          ]
        },
        {
          "name": "stderr",
          "output_type": "stream",
          "text": [
            " 95%|█████████▌| 57/60 [05:10<00:16,  5.57s/it]"
          ]
        },
        {
          "name": "stdout",
          "output_type": "stream",
          "text": [
            "The clean accuracy is:  0.0779423226812159\n",
            "The attack success rate is:  0.0\n",
            "The pruned channel index is:  30\n",
            "361/361 [==============================] - 2s 6ms/step\n",
            "361/361 [==============================] - 2s 6ms/step\n"
          ]
        },
        {
          "name": "stderr",
          "output_type": "stream",
          "text": [
            " 97%|█████████▋| 58/60 [05:16<00:11,  5.67s/it]"
          ]
        },
        {
          "name": "stdout",
          "output_type": "stream",
          "text": [
            "The clean accuracy is:  0.0779423226812159\n",
            "The attack success rate is:  0.0\n",
            "The pruned channel index is:  27\n",
            "361/361 [==============================] - 2s 6ms/step\n",
            "361/361 [==============================] - 2s 6ms/step\n"
          ]
        },
        {
          "name": "stderr",
          "output_type": "stream",
          "text": [
            " 98%|█████████▊| 59/60 [05:22<00:05,  5.72s/it]"
          ]
        },
        {
          "name": "stdout",
          "output_type": "stream",
          "text": [
            "The clean accuracy is:  0.0779423226812159\n",
            "The attack success rate is:  0.0\n",
            "The pruned channel index is:  26\n",
            "361/361 [==============================] - 2s 6ms/step\n",
            "361/361 [==============================] - 2s 6ms/step\n"
          ]
        },
        {
          "name": "stderr",
          "output_type": "stream",
          "text": [
            "100%|██████████| 60/60 [05:27<00:00,  5.46s/it]"
          ]
        },
        {
          "name": "stdout",
          "output_type": "stream",
          "text": [
            "The clean accuracy is:  0.0779423226812159\n",
            "The attack success rate is:  0.0\n",
            "The pruned channel index is:  0\n"
          ]
        },
        {
          "name": "stderr",
          "output_type": "stream",
          "text": [
            "\n"
          ]
        }
      ],
      "source": [
        "# Pruning the channel\n",
        "for channel_index in tqdm(seq):\n",
        "  weight_0[:,:,:,channel_index] = 0\n",
        "  bias_0[channel_index] = 0\n",
        "  \n",
        "  model_copy.layers[5].set_weights([weight_0, bias_0])\n",
        "  cl_label_p = np.argmax(model_copy.predict(cl_x_valid), axis=1)\n",
        "  clean_accuracy = np.mean(np.equal(cl_label_p, cl_y_valid)) * 100\n",
        "\n",
        "  if (clean_data_acc-clean_accuracy >= 2 and not saved_model[0]):\n",
        "    print(\"The accuracy drops at least 2%, saved the model\", clean_accuracy)\n",
        "    model_copy.save('model_X=2.h5')\n",
        "    saved_model[0] = 1\n",
        "  if (clean_data_acc-clean_accuracy >= 4 and not saved_model[1]):\n",
        "    print(\"The accuracy drops at least 4%, saved the model\", clean_accuracy)\n",
        "    model_copy.save('model_X=4.h5')\n",
        "    saved_model[1] = 1\n",
        "  if (clean_data_acc-clean_accuracy >= 10 and not saved_model[2]):\n",
        "    print(\"The accuracy drops at least 10%, saved the model\", clean_accuracy)\n",
        "    model_copy.save('model_X=10.h5')\n",
        "    saved_model[2] = 1\n",
        "  if (clean_data_acc-clean_accuracy >= 25 and not saved_model[3]):\n",
        "    print(\"The accuracy drops at least 25%, saved the model\", clean_accuracy)\n",
        "    model_copy.save('model_X=25.h5')\n",
        "    saved_model[3] = 1\n",
        "\n",
        "  clean_acc.append(clean_accuracy)\n",
        "  bd_label_p = np.argmax(model_copy.predict(bd_x_valid), axis=1)\n",
        "  asr = np.mean(np.equal(bd_label_p, bd_y_valid)) * 100\n",
        "  asrate.append(asr)\n",
        "  \n",
        "  print(\"The clean accuracy is: \",clean_accuracy)\n",
        "  print(\"The attack success rate is: \",asr)\n",
        "  print(\"The pruned channel index is: \",channel_index)\n",
        "  \n",
        "  keras.backend.clear_session()\n"
      ]
    },
    {
      "cell_type": "code",
      "execution_count": 82,
      "metadata": {
        "id": "gsEkpj5JRrXC"
      },
      "outputs": [
        {
          "name": "stdout",
          "output_type": "stream",
          "text": [
            "clean_accuracy:  [94.29288992811986, 74.1491296440634, 63.80012124361306, 47.22438728674114, 44.04607257296267, 34.93548107733611, 33.34199359140902, 23.90231228890621, 15.380618342426605, 11.769290724863602, 7.283277041655841, 5.845674201091192, 3.4381224560491903, 2.736641551918247, 2.6327184550099596, 1.732051615138131, 1.3943015501861955, 0.9093270979475189, 0.7621027106607777, 0.6495193556767992, 0.4330129037845328, 0.2944487745734823, 0.14722438728674114, 0.16454490343812248, 0.14722438728674114, 0.18186541958950378, 0.1732051615138131, 0.0779423226812159, 0.0779423226812159, 0.0779423226812159, 0.0779423226812159, 0.0779423226812159, 0.0779423226812159, 0.0779423226812159, 0.0779423226812159, 0.0779423226812159, 0.0779423226812159, 0.0779423226812159, 0.0779423226812159, 0.0779423226812159, 0.0779423226812159, 0.0779423226812159, 0.0779423226812159, 0.0779423226812159, 0.0779423226812159, 0.0779423226812159, 0.0779423226812159, 0.0779423226812159, 0.0779423226812159, 0.0779423226812159, 0.0779423226812159, 0.0779423226812159, 0.0779423226812159, 0.0779423226812159, 0.0779423226812159, 0.0779423226812159, 0.0779423226812159, 0.0779423226812159, 0.0779423226812159, 0.0779423226812159]\n",
            "attack success rate:  [100.0, 100.0, 99.98267948384861, 99.98267948384861, 99.97401922577292, 100.0, 100.0, 100.0, 100.0, 92.9678704425392, 72.91937299731532, 86.00502294968389, 92.41361392569499, 92.32701134493809, 0.19918593574088506, 0.23382696804364772, 0.32908980687624495, 0.32908980687624495, 0.0, 0.01732051615138131, 0.03464103230276262, 0.01732051615138131, 0.0, 0.0, 0.0, 0.0, 0.0, 0.0, 0.0, 0.0, 0.0, 0.0, 0.0, 0.0, 0.0, 0.0, 0.0, 0.0, 0.0, 0.0, 0.0, 0.0, 0.0, 0.0, 0.0, 0.0, 0.0, 0.0, 0.0, 0.0, 0.0, 0.0, 0.0, 0.0, 0.0, 0.0, 0.0, 0.0, 0.0, 0.0]\n"
          ]
        }
      ],
      "source": [
        "print(\"clean_accuracy: \", clean_acc)\n",
        "print(\"attack success rate: \", asrate)"
      ]
    },
    {
      "cell_type": "code",
      "execution_count": 83,
      "metadata": {
        "id": "kFymHznzRrZO"
      },
      "outputs": [
        {
          "data": {
            "text/plain": [
              "Text(0.5, 1.0, 'accuracy and attack success rate for validation dataset')"
            ]
          },
          "execution_count": 83,
          "metadata": {},
          "output_type": "execute_result"
        },
        {
          "data": {
            "image/png": "[encoded data removed]",
            "text/plain": [
              "<Figure size 640x480 with 1 Axes>"
            ]
          },
          "metadata": {},
          "output_type": "display_data"
        }
      ],
      "source": [
        "x_axis = np.arange(1,61)/60\n",
        "plt.plot(x_axis, clean_acc)\n",
        "plt.plot(x_axis, asrate)\n",
        "plt.yticks(np.arange(0, 100, step=5))\n",
        "plt.legend(['clean_accuracy','attack success rate'])\n",
        "plt.xlabel(\"fraction of pruned channels\")\n",
        "plt.ylabel(\"rate\")\n",
        "plt.title(\"accuracy and attack success rate for validation dataset\")"
      ]
    },
    {
      "cell_type": "markdown",
      "metadata": {
        "id": "isbyAtq1R5so"
      },
      "source": [
        "#Combining the models\n",
        "Here we combine two models: original badnet model and the new pruned model"
      ]
    },
    {
      "cell_type": "code",
      "execution_count": 84,
      "metadata": {
        "id": "-U9zc0onrVaT"
      },
      "outputs": [],
      "source": [
        "class G(keras.Model):\n",
        "  def __init__(self, M, M_new):\n",
        "      super(G, self).__init__()\n",
        "      self.M = M\n",
        "      self.M_new = M_new\n",
        "\n",
        "  def predict(self, data):\n",
        "      y = np.argmax(self.M(data), axis=1)\n",
        "      y_new = np.argmax(self.M_new(data), axis=1)\n",
        "      pred = np.zeros(data.shape[0])\n",
        "      for i in range(data.shape[0]):\n",
        "        if y[i] == y_new[i]:\n",
        "          pred[i] = y[i]\n",
        "        else:\n",
        "          pred[i] = 1284 # N + 1 when classification outputs differ\n",
        "      return pred"
      ]
    },
    {
      "cell_type": "code",
      "execution_count": 85,
      "metadata": {},
      "outputs": [],
      "source": [
        "# get test data\n",
        "cl_test_data = 'cl/test.h5'\n",
        "bd_test_data = 'bd/bd_test.h5'"
      ]
    },
    {
      "cell_type": "code",
      "execution_count": 86,
      "metadata": {
        "id": "MrhmOJkiR7OC"
      },
      "outputs": [
        {
          "name": "stdout",
          "output_type": "stream",
          "text": [
            "WARNING:tensorflow:No training configuration found in the save file, so the model was *not* compiled. Compile it manually.\n",
            "WARNING:tensorflow:No training configuration found in the save file, so the model was *not* compiled. Compile it manually.\n",
            "WARNING:tensorflow:No training configuration found in the save file, so the model was *not* compiled. Compile it manually.\n",
            "WARNING:tensorflow:No training configuration found in the save file, so the model was *not* compiled. Compile it manually.\n"
          ]
        }
      ],
      "source": [
        "# getting the stored models\n",
        "test_model_X_2_filename = 'model_X=2.h5'\n",
        "test_model_X_4_filename = 'model_X=4.h5'\n",
        "test_model_X_10_filename = 'model_X=10.h5'\n",
        "test_model_X_25_filename = 'model_X=25.h5'\n",
        "\n",
        "test_model_X_2 = keras.models.load_model(test_model_X_2_filename)\n",
        "test_model_X_4 = keras.models.load_model(test_model_X_4_filename)\n",
        "test_model_X_10 = keras.models.load_model(test_model_X_10_filename)\n",
        "test_model_X_25 = keras.models.load_model(test_model_X_25_filename)"
      ]
    },
    {
      "cell_type": "code",
      "execution_count": 87,
      "metadata": {
        "id": "HSa0PSerSJLE"
      },
      "outputs": [],
      "source": [
        "x_test_cl, y_test_cl = data_loader(cl_test_data)\n",
        "x_test_bd, y_test_bd = data_loader(bd_test_data)"
      ]
    },
    {
      "cell_type": "code",
      "execution_count": 88,
      "metadata": {
        "id": "4-eW4huBSJNE"
      },
      "outputs": [
        {
          "name": "stdout",
          "output_type": "stream",
          "text": [
            "x_test_data shape:  (12830, 55, 47, 3)\n",
            "x_test_poisoned data shape:  (12830, 55, 47, 3)\n"
          ]
        }
      ],
      "source": [
        "print(\"x_test_data shape: \",x_test_cl.shape)\n",
        "print(\"x_test_poisoned data shape: \",x_test_bd.shape)"
      ]
    },
    {
      "cell_type": "code",
      "execution_count": 89,
      "metadata": {
        "id": "6RAOwYRJSOqz"
      },
      "outputs": [],
      "source": [
        "G_model_X_2 = G(bd_model, test_model_X_2)\n",
        "G_model_X_4 = G(bd_model, test_model_X_4)\n",
        "G_model_X_10 = G(bd_model, test_model_X_10)\n",
        "G_model_X_25 = G(bd_model, test_model_X_25)"
      ]
    },
    {
      "cell_type": "markdown",
      "metadata": {
        "id": "Jw7SoFs-STNZ"
      },
      "source": [
        "#Evaluating on the test dataset"
      ]
    },
    {
      "cell_type": "code",
      "execution_count": 90,
      "metadata": {},
      "outputs": [
        {
          "name": "stdout",
          "output_type": "stream",
          "text": [
            "401/401 [==============================] - 2s 6ms/step\n",
            "2% drops model, the clean test data Classification accuracy: 94.13094310210445\n",
            "401/401 [==============================] - 2s 6ms/step\n",
            "2% drops model, Attack Success Rate: 100.0\n"
          ]
        }
      ],
      "source": [
        "cl_test_2_label_p = np.argmax(test_model_X_2.predict(x_test_cl), axis=1)\n",
        "clean_test_2_accuracy = np.mean(np.equal(cl_test_2_label_p, y_test_cl))*100\n",
        "print('2% drops model, the clean test data Classification accuracy:', clean_test_2_accuracy)\n",
        "\n",
        "bd_test_2_label_p = np.argmax(test_model_X_2.predict(x_test_bd), axis=1)\n",
        "asr_2 = np.mean(np.equal(bd_test_2_label_p, y_test_bd))*100\n",
        "print('2% drops model, Attack Success Rate:', asr_2)"
      ]
    },
    {
      "cell_type": "code",
      "execution_count": 91,
      "metadata": {},
      "outputs": [
        {
          "name": "stdout",
          "output_type": "stream",
          "text": [
            "401/401 [==============================] - 2s 6ms/step\n",
            "4% drops model, the clean test data classification accuracy: 94.13094310210445\n",
            "401/401 [==============================] - 2s 6ms/step\n",
            "4% drops model, Attack Success Rate: 100.0\n"
          ]
        }
      ],
      "source": [
        "cl_test_4_label_p = np.argmax(test_model_X_4.predict(x_test_cl), axis=1)\n",
        "clean_test_4_accuracy = np.mean(np.equal(cl_test_4_label_p, y_test_cl))*100\n",
        "print('4% drops model, the clean test data classification accuracy:', clean_test_4_accuracy)\n",
        "\n",
        "bd_test_4_label_p = np.argmax(test_model_X_4.predict(x_test_bd), axis=1)\n",
        "asr_4 = np.mean(np.equal(bd_test_4_label_p, y_test_bd))*100\n",
        "print('4% drops model, Attack Success Rate:', asr_4)"
      ]
    },
    {
      "cell_type": "code",
      "execution_count": 92,
      "metadata": {},
      "outputs": [
        {
          "name": "stdout",
          "output_type": "stream",
          "text": [
            "401/401 [==============================] - 3s 6ms/step\n",
            "10% drops model, the clean test data classification accuracy: 74.24785658612628\n",
            "401/401 [==============================] - 3s 8ms/step\n",
            "10% drops model, Attack Success Rate: 100.0\n"
          ]
        }
      ],
      "source": [
        "cl_test_10_label_p = np.argmax(test_model_X_10.predict(x_test_cl), axis=1)\n",
        "clean_test_10_accuracy = np.mean(np.equal(cl_test_10_label_p, y_test_cl))*100\n",
        "print('10% drops model, the clean test data classification accuracy:', clean_test_10_accuracy)\n",
        "\n",
        "bd_test_10_label_p = np.argmax(test_model_X_10.predict(x_test_bd), axis=1)\n",
        "asr_10 = np.mean(np.equal(bd_test_10_label_p, y_test_bd))*100\n",
        "print('10% drops model, Attack Success Rate:', asr_10)"
      ]
    },
    {
      "cell_type": "code",
      "execution_count": 93,
      "metadata": {
        "id": "vRSEsMjXSOtH"
      },
      "outputs": [
        {
          "name": "stdout",
          "output_type": "stream",
          "text": [
            "401/401 [==============================] - 2s 6ms/step\n",
            "25% drops model, the clean test data classification accuracy: 64.23226812159002\n",
            "401/401 [==============================] - 3s 6ms/step\n",
            "25% drops model, Attack Success Rate: 99.99220576773187\n"
          ]
        }
      ],
      "source": [
        "cl_test_25_label_p = np.argmax(test_model_X_25.predict(x_test_cl), axis=1)\n",
        "clean_test_25_accuracy = np.mean(np.equal(cl_test_25_label_p, y_test_cl))*100\n",
        "print('25% drops model, the clean test data classification accuracy:', clean_test_25_accuracy)\n",
        "\n",
        "bd_test_25_label_p = np.argmax(test_model_X_25.predict(x_test_bd), axis=1)\n",
        "asr_25 = np.mean(np.equal(bd_test_25_label_p, y_test_bd))*100\n",
        "print('25% drops model, Attack Success Rate:', asr_25)"
      ]
    },
    {
      "cell_type": "markdown",
      "metadata": {
        "id": "489spaGcSYLH"
      },
      "source": [
        "#Summarizing the fixed models"
      ]
    },
    {
      "cell_type": "code",
      "execution_count": 94,
      "metadata": {
        "id": "5uKAtV_eSRg1"
      },
      "outputs": [
        {
          "data": {
            "text/html": [
              "<div>\n",
              "<style scoped>\n",
              "    .dataframe tbody tr th:only-of-type {\n",
              "        vertical-align: middle;\n",
              "    }\n",
              "\n",
              "    .dataframe tbody tr th {\n",
              "        vertical-align: top;\n",
              "    }\n",
              "\n",
              "    .dataframe thead th {\n",
              "        text-align: right;\n",
              "    }\n",
              "</style>\n",
              "<table border=\"1\" class=\"dataframe\">\n",
              "  <thead>\n",
              "    <tr style=\"text-align: right;\">\n",
              "      <th></th>\n",
              "      <th>text_acc</th>\n",
              "      <th>attack_rate</th>\n",
              "    </tr>\n",
              "    <tr>\n",
              "      <th>model</th>\n",
              "      <th></th>\n",
              "      <th></th>\n",
              "    </tr>\n",
              "  </thead>\n",
              "  <tbody>\n",
              "    <tr>\n",
              "      <th>repaired_2%</th>\n",
              "      <td>94.130943</td>\n",
              "      <td>100.000000</td>\n",
              "    </tr>\n",
              "    <tr>\n",
              "      <th>repaired_4%</th>\n",
              "      <td>94.130943</td>\n",
              "      <td>100.000000</td>\n",
              "    </tr>\n",
              "    <tr>\n",
              "      <th>repaired_10%</th>\n",
              "      <td>74.247857</td>\n",
              "      <td>100.000000</td>\n",
              "    </tr>\n",
              "    <tr>\n",
              "      <th>repaired_25%</th>\n",
              "      <td>64.232268</td>\n",
              "      <td>99.992206</td>\n",
              "    </tr>\n",
              "  </tbody>\n",
              "</table>\n",
              "</div>"
            ],
            "text/plain": [
              "               text_acc  attack_rate\n",
              "model                               \n",
              "repaired_2%   94.130943   100.000000\n",
              "repaired_4%   94.130943   100.000000\n",
              "repaired_10%  74.247857   100.000000\n",
              "repaired_25%  64.232268    99.992206"
            ]
          },
          "execution_count": 94,
          "metadata": {},
          "output_type": "execute_result"
        }
      ],
      "source": [
        "test_acc = [clean_test_2_accuracy, clean_test_4_accuracy, clean_test_10_accuracy, clean_test_25_accuracy]\n",
        "attack_rate = [asr_2, asr_4, asr_10, asr_25]\n",
        "data = {\n",
        "    \"text_acc\": test_acc,\n",
        "    \"attack_rate\": attack_rate,\n",
        "    \"model\": [\"repaired_2%\", \"repaired_4%\", \"repaired_10%\", \"repaired_25%\"]\n",
        "}\n",
        "df = pd.DataFrame(data)\n",
        "df.set_index('model')"
      ]
    },
    {
      "cell_type": "code",
      "execution_count": 95,
      "metadata": {
        "id": "wAT3dOXSSOv9"
      },
      "outputs": [
        {
          "data": {
            "image/png": "[encoded data removed]",
            "text/plain": [
              "<Figure size 640x480 with 1 Axes>"
            ]
          },
          "metadata": {},
          "output_type": "display_data"
        }
      ],
      "source": [
        "opacity = 0.6\n",
        "bar_width = 0.5\n",
        "\n",
        "bar1 = plt.bar(np.arange(len(test_acc)) + bar_width, test_acc, bar_width, align='center', alpha=opacity, color='green', label='accuracy')\n",
        "bar2 = plt.bar(range(len(attack_rate)), attack_rate, bar_width, align='center', alpha=opacity, color='blue', label='attack rate')\n",
        "\n",
        "# Add counts above the two bar graphs\n",
        "for rect in bar1 + bar2:\n",
        "    height = rect.get_height()\n",
        "    plt.text(rect.get_x() + rect.get_width() / 2.0, height, f'{height:.02f}', ha='center', va='bottom')\n",
        "\n",
        "plt.xlabel('% drops model')\n",
        "plt.ylabel('Rate')\n",
        "plt.xticks(range(len(test_acc)),('2%', '4%', '10%', '25%'))\n",
        "plt.legend(bbox_to_anchor=(1.4, 1))\n",
        "plt.tight_layout()\n",
        "plt.title('performance of repaired model')\n",
        "sns.despine()\n",
        "plt.show()"
      ]
    },
    {
      "cell_type": "markdown",
      "metadata": {},
      "source": [
        "#Performace for combined models"
      ]
    },
    {
      "cell_type": "code",
      "execution_count": 96,
      "metadata": {},
      "outputs": [
        {
          "name": "stdout",
          "output_type": "stream",
          "text": [
            "Combined 2% drops model, the clean test data Classification accuracy: 93.95946999220577\n",
            "Combined 2% drops model, Attack Success Rate: 100.0\n"
          ]
        }
      ],
      "source": [
        "G_cl_test_2_label_p = G_model_X_2.predict(x_test_cl)\n",
        "G_clean_test_2_accuracy = np.mean(np.equal(G_cl_test_2_label_p, y_test_cl))*100\n",
        "print('Combined 2% drops model, the clean test data Classification accuracy:', G_clean_test_2_accuracy)\n",
        "\n",
        "G_bd_test_2_label_p = G_model_X_2.predict(x_test_bd)\n",
        "G_asr_2 = np.mean(np.equal(G_bd_test_2_label_p, y_test_bd))*100\n",
        "print('Combined 2% drops model, Attack Success Rate:', G_asr_2)"
      ]
    },
    {
      "cell_type": "code",
      "execution_count": 97,
      "metadata": {},
      "outputs": [
        {
          "name": "stdout",
          "output_type": "stream",
          "text": [
            "Combined 4% drops model, the clean test data Classification accuracy: 93.95946999220577\n",
            "Combined 4% drops model, Attack Success Rate: 100.0\n"
          ]
        }
      ],
      "source": [
        "G_cl_test_4_label_p = G_model_X_4.predict(x_test_cl)\n",
        "G_clean_test_4_accuracy = np.mean(np.equal(G_cl_test_4_label_p, y_test_cl))*100\n",
        "print('Combined 4% drops model, the clean test data Classification accuracy:', G_clean_test_4_accuracy)\n",
        "\n",
        "G_bd_test_4_label_p = G_model_X_4.predict(x_test_bd)\n",
        "G_asr_4 = np.mean(np.equal(G_bd_test_4_label_p, y_test_bd))*100\n",
        "print('Combined 4% drops model, Attack Success Rate:', G_asr_4)"
      ]
    },
    {
      "cell_type": "code",
      "execution_count": 98,
      "metadata": {},
      "outputs": [
        {
          "name": "stdout",
          "output_type": "stream",
          "text": [
            "Combined 10% drops model, the clean test data Classification accuracy: 74.09197194076384\n",
            "Combined 10% drops model, Attack Success Rate: 100.0\n"
          ]
        }
      ],
      "source": [
        "G_cl_test_10_label_p = G_model_X_10.predict(x_test_cl)\n",
        "G_clean_test_10_accuracy = np.mean(np.equal(G_cl_test_10_label_p, y_test_cl))*100\n",
        "print('Combined 10% drops model, the clean test data Classification accuracy:', G_clean_test_10_accuracy)\n",
        "\n",
        "G_bd_test_10_label_p = G_model_X_10.predict(x_test_bd)\n",
        "G_asr_10 = np.mean(np.equal(G_bd_test_10_label_p, y_test_bd))*100\n",
        "print('Combined 10% drops model, Attack Success Rate:', G_asr_10)"
      ]
    },
    {
      "cell_type": "code",
      "execution_count": 99,
      "metadata": {},
      "outputs": [
        {
          "name": "stdout",
          "output_type": "stream",
          "text": [
            "Combined 25% drops model, the clean test data Classification accuracy: 64.12314886983633\n",
            "Combined 25% drops model, Attack Success Rate: 99.99220576773187\n"
          ]
        }
      ],
      "source": [
        "\n",
        "G_cl_test_25_label_p = G_model_X_25.predict(x_test_cl)\n",
        "G_clean_test_25_accuracy = np.mean(np.equal(G_cl_test_25_label_p, y_test_cl))*100\n",
        "print('Combined 25% drops model, the clean test data Classification accuracy:', G_clean_test_25_accuracy)\n",
        "\n",
        "G_bd_test_25_label_p = G_model_X_25.predict(x_test_bd)\n",
        "G_asr_25 = np.mean(np.equal(G_bd_test_25_label_p, y_test_bd))*100\n",
        "print('Combined 25% drops model, Attack Success Rate:', G_asr_25)"
      ]
    },
    {
      "cell_type": "code",
      "execution_count": 100,
      "metadata": {
        "id": "j2249GcVSfln"
      },
      "outputs": [
        {
          "data": {
            "text/html": [
              "<div>\n",
              "<style scoped>\n",
              "    .dataframe tbody tr th:only-of-type {\n",
              "        vertical-align: middle;\n",
              "    }\n",
              "\n",
              "    .dataframe tbody tr th {\n",
              "        vertical-align: top;\n",
              "    }\n",
              "\n",
              "    .dataframe thead th {\n",
              "        text-align: right;\n",
              "    }\n",
              "</style>\n",
              "<table border=\"1\" class=\"dataframe\">\n",
              "  <thead>\n",
              "    <tr style=\"text-align: right;\">\n",
              "      <th></th>\n",
              "      <th>G_text_acc</th>\n",
              "      <th>G_attack_rate</th>\n",
              "    </tr>\n",
              "    <tr>\n",
              "      <th>G_model</th>\n",
              "      <th></th>\n",
              "      <th></th>\n",
              "    </tr>\n",
              "  </thead>\n",
              "  <tbody>\n",
              "    <tr>\n",
              "      <th>G_2%</th>\n",
              "      <td>93.959470</td>\n",
              "      <td>100.000000</td>\n",
              "    </tr>\n",
              "    <tr>\n",
              "      <th>G_4%</th>\n",
              "      <td>93.959470</td>\n",
              "      <td>100.000000</td>\n",
              "    </tr>\n",
              "    <tr>\n",
              "      <th>G_10%</th>\n",
              "      <td>74.091972</td>\n",
              "      <td>100.000000</td>\n",
              "    </tr>\n",
              "    <tr>\n",
              "      <th>G_25%</th>\n",
              "      <td>64.123149</td>\n",
              "      <td>99.992206</td>\n",
              "    </tr>\n",
              "  </tbody>\n",
              "</table>\n",
              "</div>"
            ],
            "text/plain": [
              "         G_text_acc  G_attack_rate\n",
              "G_model                           \n",
              "G_2%      93.959470     100.000000\n",
              "G_4%      93.959470     100.000000\n",
              "G_10%     74.091972     100.000000\n",
              "G_25%     64.123149      99.992206"
            ]
          },
          "execution_count": 100,
          "metadata": {},
          "output_type": "execute_result"
        }
      ],
      "source": [
        "G_test_acc = [G_clean_test_2_accuracy, G_clean_test_4_accuracy, G_clean_test_10_accuracy, G_clean_test_25_accuracy]\n",
        "G_attack_rate = [G_asr_2, G_asr_4, G_asr_10, G_asr_25]\n",
        "G_data = {\n",
        "    \"G_text_acc\": G_test_acc,\n",
        "    \"G_attack_rate\": G_attack_rate,\n",
        "    \"G_model\": [\"G_2%\", \"G_4%\", \"G_10%\", \"G_25%\"]\n",
        "}\n",
        "G_df = pd.DataFrame(G_data)\n",
        "G_df.set_index('G_model')\n"
      ]
    },
    {
      "cell_type": "code",
      "execution_count": 101,
      "metadata": {
        "id": "ZOUKKLyTSiWI"
      },
      "outputs": [
        {
          "data": {
            "image/png": "[encoded data removed]",
            "text/plain": [
              "<Figure size 640x480 with 1 Axes>"
            ]
          },
          "metadata": {},
          "output_type": "display_data"
        }
      ],
      "source": [
        "opacity = 0.6\n",
        "bar_width = 0.5\n",
        "\n",
        "\n",
        "bar1 = plt.bar(np.arange(len(G_test_acc)) + bar_width, G_test_acc, bar_width, align='center', alpha=opacity, color='green', label='accuracy')\n",
        "bar2 = plt.bar(range(len(G_attack_rate)),G_attack_rate, bar_width, align='center', alpha=opacity, color='blue', label='attack rate')\n",
        "\n",
        "for rect in bar1 + bar2:\n",
        "    height = rect.get_height()\n",
        "    plt.text(rect.get_x() + rect.get_width() / 2.0, height, f'{height:.02f}', ha='center', va='bottom')\n",
        "\n",
        "plt.xlabel('combined % drops model')\n",
        "plt.ylabel('Rate')\n",
        "plt.xticks(range(len(G_test_acc)),('2%', '4%', '10%', '15%'))\n",
        "plt.legend(bbox_to_anchor=(1.4, 1))\n",
        "plt.tight_layout()\n",
        "plt.title('performance of goodNet model')\n",
        "sns.despine()\n",
        "plt.show()"
      ]
    },
    {
      "cell_type": "code",
      "execution_count": null,
      "metadata": {
        "id": "aHey5yAKSiZQ"
      },
      "outputs": [],
      "source": []
    }
  ],
  "metadata": {
    "colab": {
      "gpuType": "T4",
      "provenance": []
    },
    "kernelspec": {
      "display_name": "Python 3",
      "name": "python3"
    },
    "language_info": {
      "codemirror_mode": {
        "name": "ipython",
        "version": 3
      },
      "file_extension": ".py",
      "mimetype": "text/x-python",
      "name": "python",
      "nbconvert_exporter": "python",
      "pygments_lexer": "ipython3",
      "version": "3.11.3"
    }
  },
  "nbformat": 4,
  "nbformat_minor": 0
}
